{
 "cells": [
  {
   "cell_type": "code",
   "execution_count": 1,
   "id": "20c3b193",
   "metadata": {},
   "outputs": [],
   "source": [
    "#!python -m spacy download fr\n",
    "#!pip install ecco\n",
    "#!python -m spacy download fr_core_news_sm\n",
    "#!python -m spacy download en_core_web_sm"
   ]
  },
  {
   "cell_type": "code",
   "execution_count": 2,
   "id": "e854851a",
   "metadata": {},
   "outputs": [],
   "source": [
    "from io import open\n",
    "import unicodedata\n",
    "import string\n",
    "import re\n",
    "import random\n",
    "import os\n",
    "\n",
    "import torch\n",
    "from torch import nn\n",
    "import torch.nn.functional as F\n",
    "from torch.nn.utils.rnn import pad_sequence\n",
    "from torch.utils.data import DataLoader\n",
    "\n",
    "from torchtext.data.utils import get_tokenizer\n",
    "from torchtext.vocab import Vocab, build_vocab_from_iterator\n",
    "from collections import Counter \n",
    "\n",
    "from tqdm.notebook import tqdm\n",
    "import numpy as np\n",
    "import pandas as pd\n",
    "import matplotlib.pyplot as plt\n",
    "from matplotlib import ticker"
   ]
  },
  {
   "cell_type": "code",
   "execution_count": 3,
   "id": "e0eb473b",
   "metadata": {},
   "outputs": [],
   "source": [
    "#%%capture\n",
    "#!wget https://download.pytorch.org/tutorial/data.zip && unzip data.zip && rm data.zip"
   ]
  },
  {
   "cell_type": "code",
   "execution_count": 4,
   "id": "f38fcbd9",
   "metadata": {},
   "outputs": [],
   "source": [
    "MAX_SENTENCE_LENGTH = 20\n",
    "FILTER_TO_BASIC_PREFIXES = False\n",
    "SAVE_DIR = os.path.join(\".\", \"models\")\n",
    "\n",
    "ENCODER_EMBEDDING_DIM = 256\n",
    "ENCODER_HIDDEN_SIZE = 256\n",
    "DECODER_EMBEDDING_DIM = 256\n",
    "DECODER_HIDDEN_SIZE = 256"
   ]
  },
  {
   "cell_type": "code",
   "execution_count": 5,
   "id": "1febf74b",
   "metadata": {},
   "outputs": [
    {
     "data": {
      "text/plain": [
       "device(type='cuda')"
      ]
     },
     "execution_count": 5,
     "metadata": {},
     "output_type": "execute_result"
    }
   ],
   "source": [
    "device = torch.device(\"cuda\" if torch.cuda.is_available() else \"cpu\")\n",
    "#device=\"cpu\"\n",
    "device"
   ]
  },
  {
   "cell_type": "code",
   "execution_count": 6,
   "id": "935f2437",
   "metadata": {},
   "outputs": [
    {
     "name": "stdout",
     "output_type": "stream",
     "text": [
      "Thu Nov  9 13:19:04 2023       \r\n",
      "+-----------------------------------------------------------------------------+\r\n",
      "| NVIDIA-SMI 525.125.06   Driver Version: 525.125.06   CUDA Version: 12.0     |\r\n",
      "|-------------------------------+----------------------+----------------------+\r\n",
      "| GPU  Name        Persistence-M| Bus-Id        Disp.A | Volatile Uncorr. ECC |\r\n",
      "| Fan  Temp  Perf  Pwr:Usage/Cap|         Memory-Usage | GPU-Util  Compute M. |\r\n",
      "|                               |                      |               MIG M. |\r\n",
      "|===============================+======================+======================|\r\n",
      "|   0  NVIDIA GeForce ...  Off  | 00000000:65:00.0  On |                  N/A |\r\n",
      "|  0%   40C    P5    20W / 280W |    422MiB /  8192MiB |      0%      Default |\r\n",
      "|                               |                      |                  N/A |\r\n",
      "+-------------------------------+----------------------+----------------------+\r\n",
      "                                                                               \r\n",
      "+-----------------------------------------------------------------------------+\r\n",
      "| Processes:                                                                  |\r\n",
      "|  GPU   GI   CI        PID   Type   Process name                  GPU Memory |\r\n",
      "|        ID   ID                                                   Usage      |\r\n",
      "|=============================================================================|\r\n",
      "|    0   N/A  N/A      1127      G   /usr/lib/xorg/Xorg                247MiB |\r\n",
      "|    0   N/A  N/A      1589      G   xfwm4                               4MiB |\r\n",
      "|    0   N/A  N/A      2685      G   /usr/lib/firefox/firefox          166MiB |\r\n",
      "+-----------------------------------------------------------------------------+\r\n"
     ]
    }
   ],
   "source": [
    "if torch.cuda.is_available():\n",
    "    !nvidia-smi"
   ]
  },
  {
   "cell_type": "code",
   "execution_count": 7,
   "id": "d8ea32e3",
   "metadata": {},
   "outputs": [
    {
     "name": "stdout",
     "output_type": "stream",
     "text": [
      "135,842 English-French phrase pairs.\n",
      "\n",
      "~~~~~ Examples: ~~~~~\n",
      "English:  He rolled his eyes.\n",
      "French:   Il roula des yeux.\n",
      "\n",
      "English:  We must water the flower.\n",
      "French:   Nous devons arroser la fleur.\n",
      "\n",
      "English:  He asked for money.\n",
      "French:   Il a quémandé de l'argent.\n",
      "\n",
      "English:  Let me try again.\n",
      "French:   Laissez-moi réessayer !\n",
      "\n",
      "English:  He seemed to like that.\n",
      "French:   Il eut l'air de l'apprécier.\n",
      "\n"
     ]
    }
   ],
   "source": [
    "with open('./data/eng-fra.txt', encoding='utf-8') as f:\n",
    "    lines = f.read().strip().split('\\n')\n",
    "\n",
    "print(f\"{len(lines):,} English-French phrase pairs.\\n\")\n",
    "print(\"~~~~~ Examples: ~~~~~\")\n",
    "for example in random.choices(lines, k=5):\n",
    "    pair = example.split('\\t')\n",
    "    print(f\"English:  {pair[0]}\")\n",
    "    print(f\"French:   {pair[1]}\")\n",
    "    print()"
   ]
  },
  {
   "cell_type": "code",
   "execution_count": 8,
   "id": "6236871e",
   "metadata": {},
   "outputs": [],
   "source": [
    "def unicodeToAscii(s):\n",
    "    return ''.join(\n",
    "      c for c in unicodedata.normalize('NFD', s) \n",
    "      if unicodedata.category(c) != 'Mn'\n",
    "    )\n",
    "\n",
    "def normalizeString(s):\n",
    "    s = unicodeToAscii(s.lower().strip())\n",
    "    s = re.sub(r\"[^a-zA-Z.!?]+\", \" \", s)\n",
    "    return s"
   ]
  },
  {
   "cell_type": "code",
   "execution_count": 9,
   "id": "b80cc4f8",
   "metadata": {},
   "outputs": [],
   "source": [
    "def filterPair(p, max_length, prefixes):\n",
    "    good_length = (len(p[0].split(' ')) < max_length) and (len(p[1].split(' ')) < max_length)\n",
    "    if len(prefixes) == 0:\n",
    "        return good_length\n",
    "    else:\n",
    "        return good_length and p[0].startswith(prefixes)\n",
    "\n",
    "def filterPairs(pairs, max_length, prefixes=()):\n",
    "    return [pair for pair in pairs if filterPair(pair, max_length, prefixes)]"
   ]
  },
  {
   "cell_type": "code",
   "execution_count": 10,
   "id": "38e4b9ea",
   "metadata": {},
   "outputs": [],
   "source": [
    "def prepareData(lines, filter=False, reverse=False, max_length=10, prefixes=()):\n",
    "    pairs = [[normalizeString(s) for s in l.split('\\t')] for l in lines]\n",
    "\n",
    "    print(f\"Given {len(pairs):,} sentence pairs.\")\n",
    "\n",
    "    if filter:\n",
    "        pairs = filterPairs(pairs, max_length=max_length, prefixes=prefixes)\n",
    "        print(f\"After filtering, {len(pairs):,} remain.\")\n",
    "\n",
    "    return pairs"
   ]
  },
  {
   "cell_type": "code",
   "execution_count": 11,
   "id": "33f51700",
   "metadata": {},
   "outputs": [],
   "source": [
    "basic_prefixes = (\n",
    "    \"i am \", \"i m \",\n",
    "    \"he is\", \"he s \",\n",
    "    \"she is\", \"she s \",\n",
    "    \"you are\", \"you re \",\n",
    "    \"we are\", \"we re \",\n",
    "    \"they are\", \"they re \",\n",
    "    'are you', 'am i ', \n",
    "    'were you', 'was i ', \n",
    "    'where are', 'where is',\n",
    "    'what is', 'what are'\n",
    ")"
   ]
  },
  {
   "cell_type": "code",
   "execution_count": 12,
   "id": "facbdd30",
   "metadata": {},
   "outputs": [
    {
     "name": "stdout",
     "output_type": "stream",
     "text": [
      "Given 135,842 sentence pairs.\n",
      "After filtering, 135,284 remain.\n"
     ]
    }
   ],
   "source": [
    "pairs = prepareData(lines, \n",
    "                    filter=True, \n",
    "                    max_length=MAX_SENTENCE_LENGTH, \n",
    "                    prefixes=basic_prefixes if FILTER_TO_BASIC_PREFIXES else ())"
   ]
  },
  {
   "cell_type": "code",
   "execution_count": 13,
   "id": "56e38724",
   "metadata": {},
   "outputs": [
    {
     "data": {
      "text/plain": [
       "[['go.', 'va !'],\n",
       " ['run!', 'cours !'],\n",
       " ['run!', 'courez !'],\n",
       " ['wow!', 'ca alors !'],\n",
       " ['fire!', 'au feu !'],\n",
       " ['help!', 'a l aide !'],\n",
       " ['jump.', 'saute.'],\n",
       " ['stop!', 'ca suffit !'],\n",
       " ['stop!', 'stop !'],\n",
       " ['stop!', 'arrete toi !'],\n",
       " ['wait!', 'attends !'],\n",
       " ['wait!', 'attendez !'],\n",
       " ['i see.', 'je comprends.'],\n",
       " ['i try.', 'j essaye.'],\n",
       " ['i won!', 'j ai gagne !'],\n",
       " ['i won!', 'je l ai emporte !'],\n",
       " ['oh no!', 'oh non !'],\n",
       " ['attack!', 'attaque !'],\n",
       " ['attack!', 'attaquez !'],\n",
       " ['cheers!', 'sante !'],\n",
       " ['cheers!', 'a votre sante !'],\n",
       " ['cheers!', 'merci !'],\n",
       " ['get up.', 'leve toi.'],\n",
       " ['got it!', 'j ai pige !'],\n",
       " ['got it!', 'compris !'],\n",
       " ['got it?', 'pige ?'],\n",
       " ['got it?', 'compris ?'],\n",
       " ['got it?', 't as capte ?'],\n",
       " ['hop in.', 'monte.'],\n",
       " ['hop in.', 'montez.'],\n",
       " ['hug me.', 'serre moi dans tes bras !'],\n",
       " ['hug me.', 'serrez moi dans vos bras !'],\n",
       " ['i fell.', 'je suis tombee.'],\n",
       " ['i fell.', 'je suis tombe.'],\n",
       " ['i know.', 'je sais.'],\n",
       " ['i left.', 'je suis parti.'],\n",
       " ['i left.', 'je suis partie.'],\n",
       " ['i lost.', 'j ai perdu.'],\n",
       " ['i m .', 'j ai ans.'],\n",
       " ['i m ok.', 'je vais bien.'],\n",
       " ['i m ok.', 'ca va.'],\n",
       " ['listen.', 'ecoutez !'],\n",
       " ['no way!', 'impossible !'],\n",
       " ['no way!', 'en aucun cas.'],\n",
       " ['no way!', 'c est hors de question !'],\n",
       " ['no way!', 'il n en est pas question !'],\n",
       " ['no way!', 'c est exclu !'],\n",
       " ['no way!', 'en aucune maniere !'],\n",
       " ['no way!', 'hors de question !'],\n",
       " ['really?', 'vraiment ?'],\n",
       " ['really?', 'vrai ?'],\n",
       " ['really?', 'ah bon ?'],\n",
       " ['thanks.', 'merci !'],\n",
       " ['we try.', 'on essaye.'],\n",
       " ['we won.', 'nous avons gagne.'],\n",
       " ['we won.', 'nous gagnames.'],\n",
       " ['we won.', 'nous l avons emporte.'],\n",
       " ['we won.', 'nous l emportames.'],\n",
       " ['ask tom.', 'demande a tom.'],\n",
       " ['awesome!', 'fantastique !'],\n",
       " ['be calm.', 'sois calme !'],\n",
       " ['be calm.', 'soyez calme !'],\n",
       " ['be calm.', 'soyez calmes !'],\n",
       " ['be cool.', 'sois detendu !'],\n",
       " ['be fair.', 'sois juste !'],\n",
       " ['be fair.', 'soyez juste !'],\n",
       " ['be fair.', 'soyez justes !'],\n",
       " ['be fair.', 'sois equitable !'],\n",
       " ['be fair.', 'soyez equitable !'],\n",
       " ['be fair.', 'soyez equitables !'],\n",
       " ['be kind.', 'sois gentil.'],\n",
       " ['be nice.', 'sois gentil !'],\n",
       " ['be nice.', 'sois gentille !'],\n",
       " ['be nice.', 'soyez gentil !'],\n",
       " ['be nice.', 'soyez gentille !'],\n",
       " ['be nice.', 'soyez gentils !'],\n",
       " ['be nice.', 'soyez gentilles !'],\n",
       " ['beat it.', 'degage !'],\n",
       " ['call me.', 'appelle moi !'],\n",
       " ['call me.', 'appellez moi !'],\n",
       " ['call us.', 'appelle nous !'],\n",
       " ['call us.', 'appelez nous !'],\n",
       " ['come in.', 'entrez !'],\n",
       " ['come in.', 'entre.'],\n",
       " ['come in.', 'entre !'],\n",
       " ['come in.', 'entrez !'],\n",
       " ['come on!', 'allez !'],\n",
       " ['come on.', 'allez !'],\n",
       " ['come on.', 'viens !'],\n",
       " ['come on.', 'venez !'],\n",
       " ['drop it!', 'laisse tomber !'],\n",
       " ['drop it!', 'laissez tomber !'],\n",
       " ['drop it!', 'laisse le tomber !'],\n",
       " ['drop it!', 'laissez le tomber !'],\n",
       " ['get out!', 'sortez !'],\n",
       " ['get out!', 'sors !'],\n",
       " ['get out!', 'sortez !'],\n",
       " ['get out.', 'sors.'],\n",
       " ['get out.', 'casse toi.'],\n",
       " ['go away!', 'degage !'],\n",
       " ['go away!', 'pars !'],\n",
       " ['go away.', 'va te faire foutre !'],\n",
       " ['go away.', 'pars !'],\n",
       " ['go away.', 'degage !'],\n",
       " ['go away.', 'fous le camp !'],\n",
       " ['go away.', 'pars d ici.'],\n",
       " ['go away.', 'va t en !'],\n",
       " ['go away.', 'disparais !'],\n",
       " ['go away.', 'allez vous en !'],\n",
       " ['go slow.', 'va doucement !'],\n",
       " ['go slow.', 'allez doucement !'],\n",
       " ['goodbye!', 'a la revoyure.'],\n",
       " ['hang on!', 'attends un peu !'],\n",
       " ['hang on!', 'attendez un peu !'],\n",
       " ['hang on.', 'tiens bon !'],\n",
       " ['hang on.', 'tenez bon !'],\n",
       " ['he quit.', 'il laissa tomber.'],\n",
       " ['he quit.', 'il a laisse tomber.'],\n",
       " ['he runs.', 'il court.'],\n",
       " ['help me!', 'aide moi !'],\n",
       " ['help me.', 'aide moi.'],\n",
       " ['help me.', 'aidez moi.'],\n",
       " ['help us.', 'aidez nous !'],\n",
       " ['help us.', 'aide nous !'],\n",
       " ['hold it!', 'ne bouge plus !'],\n",
       " ['hold on.', 'ne quittez pas.'],\n",
       " ['i agree.', 'je suis du meme avis.'],\n",
       " ['i tried.', 'j essayai.'],\n",
       " ['i tried.', 'j ai essaye.'],\n",
       " ['i tried.', 'j ai tente.'],\n",
       " ['i ll go.', 'j irai.'],\n",
       " ['i m fat.', 'je suis gras.'],\n",
       " ['i m fat.', 'je suis gros.'],\n",
       " ['i m fit.', 'je suis en forme.'],\n",
       " ['i m hit!', 'je suis touche !'],\n",
       " ['i m hit!', 'je suis touchee !'],\n",
       " ['i m ill.', 'je suis malade.'],\n",
       " ['i m sad.', 'je suis triste.'],\n",
       " ['i m shy.', 'je suis timide.'],\n",
       " ['i m wet.', 'je suis mouille.'],\n",
       " ['i m wet.', 'je suis mouillee.'],\n",
       " ['it s me!', 'c est bibi !'],\n",
       " ['join us.', 'joignez vous.'],\n",
       " ['join us.', 'joignez vous a nous.'],\n",
       " ['keep it.', 'garde le !'],\n",
       " ['keep it.', 'gardez le !'],\n",
       " ['kiss me.', 'embrasse moi.'],\n",
       " ['kiss me.', 'embrassez moi.'],\n",
       " ['me too.', 'moi aussi.'],\n",
       " ['open up.', 'ouvre moi !'],\n",
       " ['open up.', 'ouvre.'],\n",
       " ['perfect!', 'parfait !'],\n",
       " ['see you.', 'a plus.'],\n",
       " ['show me.', 'montre moi !'],\n",
       " ['show me.', 'montrez moi !'],\n",
       " ['shut up!', 'taisez vous !'],\n",
       " ['shut up!', 'ferme la !'],\n",
       " ['shut up!', 'tais toi !'],\n",
       " ['shut up!', 'ferme la !'],\n",
       " ['shut up!', 'la ferme !'],\n",
       " ['so long.', 'a plus tard !'],\n",
       " ['take it.', 'prends le !'],\n",
       " ['take it.', 'prenez le !'],\n",
       " ['tell me.', 'dis moi !'],\n",
       " ['tell me.', 'dites moi !'],\n",
       " ['tom won.', 'tom a gagne.'],\n",
       " ['wake up!', 'reveille toi !'],\n",
       " ['wake up!', 'reveille toi !'],\n",
       " ['wake up!', 'reveillez vous !'],\n",
       " ['wake up.', 'reveille toi !'],\n",
       " ['wake up.', 'reveillez vous !'],\n",
       " ['wash up.', 'lave toi !'],\n",
       " ['wash up.', 'lavez vous !'],\n",
       " ['we know.', 'nous savons.'],\n",
       " ['we lost.', 'nous perdimes.'],\n",
       " ['we lost.', 'nous avons perdu.'],\n",
       " ['we lost.', 'nous fumes battus.'],\n",
       " ['we lost.', 'nous fumes battues.'],\n",
       " ['we lost.', 'nous fumes defaits.'],\n",
       " ['we lost.', 'nous fumes defaites.'],\n",
       " ['we lost.', 'nous avons ete defaits.'],\n",
       " ['we lost.', 'nous avons ete defaites.'],\n",
       " ['we lost.', 'nous avons ete battus.'],\n",
       " ['we lost.', 'nous avons ete battues.'],\n",
       " ['who won?', 'qui a gagne ?'],\n",
       " ['who won?', 'qui l a emporte ?'],\n",
       " ['you run.', 'tu cours.'],\n",
       " ['am i fat?', 'suis je gros ?'],\n",
       " ['am i fat?', 'suis je grosse ?'],\n",
       " ['back off.', 'recule !'],\n",
       " ['back off.', 'reculez.'],\n",
       " ['back off.', 'retire toi !'],\n",
       " ['back off.', 'retirez vous.'],\n",
       " ['be a man.', 'sois un homme !'],\n",
       " ['be a man.', 'soyez un homme !'],\n",
       " ['be still.', 'sois calme !'],\n",
       " ['be still.', 'soyez calme !'],\n",
       " ['be still.', 'soyez calmes !'],\n",
       " ['beats me.', 'aucune idee.'],\n",
       " ['beats me.', 'j en sais foutre rien.'],\n",
       " ['call tom.', 'appelle tom.'],\n",
       " ['call tom.', 'appelez tom.'],\n",
       " ['cheer up!', 'courage !'],\n",
       " ['cool off!', 'detends toi !'],\n",
       " ['cuff him.', 'menottez le.'],\n",
       " ['drive on.', 'avance !'],\n",
       " ['drive on.', 'avancez !'],\n",
       " ['drive on.', 'continue a rouler !'],\n",
       " ['drive on.', 'continuez a rouler !'],\n",
       " ['get down!', 'lache toi !'],\n",
       " ['get down.', 'descends !'],\n",
       " ['get down.', 'descendez !'],\n",
       " ['get down.', 'lache toi !'],\n",
       " ['get down.', 'lachez vous !'],\n",
       " ['get lost!', 'va voir ailleurs si j y suis !'],\n",
       " ['get lost!', 'degage !'],\n",
       " ['get lost!', 'va au diable !'],\n",
       " ['get real!', 'sois realiste !'],\n",
       " ['go ahead.', 'vas y.'],\n",
       " ['go ahead.', 'poursuis !'],\n",
       " ['go ahead.', 'passe devant !'],\n",
       " ['go ahead.', 'vas y !'],\n",
       " ['good job!', 'bien joue !'],\n",
       " ['good job!', 'bon boulot !'],\n",
       " ['good job!', 'beau travail !'],\n",
       " ['grab him.', 'attrape le.'],\n",
       " ['grab him.', 'attrapez le.'],\n",
       " ['have fun.', 'amuse toi bien !'],\n",
       " ['have fun.', 'amusez vous bien !'],\n",
       " ['he tries.', 'il essaye.'],\n",
       " ['he s wet.', 'il est mouille.'],\n",
       " ['hi guys.', 'salut les mecs !'],\n",
       " ['how cute!', 'comme c est mignon !'],\n",
       " ['how deep?', 'quelle profondeur ?'],\n",
       " ['how nice!', 'comme c est chouette !'],\n",
       " ['how nice!', 'comme c est gentil !'],\n",
       " ['how nice!', 'c est du joli !'],\n",
       " ['how nice!', 'comme c est agreable !'],\n",
       " ['humor me.', 'fais moi rire.'],\n",
       " ['hurry up.', 'depeche toi.'],\n",
       " ['hurry up.', 'grouille !'],\n",
       " ['hurry up.', 'pressez vous !'],\n",
       " ['hurry up.', 'fica !'],\n",
       " ['i am fat.', 'je suis gras.'],\n",
       " ['i did ok.', 'je m en suis bien sorti.'],\n",
       " ['i did ok.', 'je m en suis bien sortie.'],\n",
       " ['i did it.', 'je l ai fait.'],\n",
       " ['i did it.', 'c est moi qui l ai fait.'],\n",
       " ['i forgot.', 'j ai oublie.'],\n",
       " ['i get it.', 'j ai compris.'],\n",
       " ['i got it.', 'j ai compris.'],\n",
       " ['i got it.', 'j ai capte.'],\n",
       " ['i phoned.', 'je telephonai.'],\n",
       " ['i phoned.', 'j ai telephone.'],\n",
       " ['i refuse.', 'je refuse.'],\n",
       " ['i refuse.', 'je le refuse.'],\n",
       " ['i saw it.', 'je l ai vu.'],\n",
       " ['i saw it.', 'je l ai vu.'],\n",
       " ['i stayed.', 'je suis reste.'],\n",
       " ['i stayed.', 'je suis restee.'],\n",
       " ['i use it.', 'je l utilise.'],\n",
       " ['i use it.', 'j en fais usage.'],\n",
       " ['i use it.', 'je m en sers.'],\n",
       " ['i ll pay.', 'je paierai.'],\n",
       " ['i ll try.', 'j essaierai.'],\n",
       " ['i m back.', 'je suis revenu.'],\n",
       " ['i m back.', 'me revoila.'],\n",
       " ['i m bald.', 'je suis chauve.'],\n",
       " ['i m busy.', 'je suis occupe.'],\n",
       " ['i m busy.', 'je suis occupee.'],\n",
       " ['i m calm.', 'je suis calme.'],\n",
       " ['i m cold.', 'j ai froid.'],\n",
       " ['i m done.', 'j en ai fini.'],\n",
       " ['i m fine.', 'tout va bien.'],\n",
       " ['i m fine.', 'je vais bien.'],\n",
       " ['i m fine.', 'ca va.'],\n",
       " ['i m free!', 'je suis libre !'],\n",
       " ['i m free.', 'je suis libre.'],\n",
       " ['i m free.', 'je suis disponible.'],\n",
       " ['i m full.', 'je suis repu !'],\n",
       " ['i m full.', 'je suis rassasie !'],\n",
       " ['i m glad.', 'je suis content.'],\n",
       " ['i m home.', 'je suis chez moi.'],\n",
       " ['i m late.', 'je suis en retard.'],\n",
       " ['i m lazy.', 'je suis paresseux.'],\n",
       " ['i m lazy.', 'je suis faineant.'],\n",
       " ['i m lazy.', 'je suis paresseuse.'],\n",
       " ['i m lazy.', 'je suis faineante.'],\n",
       " ['i m okay.', 'je vais bien.'],\n",
       " ['i m okay.', 'je me porte bien.'],\n",
       " ['i m safe.', 'je suis en securite.'],\n",
       " ['i m sick.', 'je suis malade.'],\n",
       " ['i m sure.', 'j en suis certain.'],\n",
       " ['i m sure.', 'je suis certain.'],\n",
       " ['i m sure.', 'j en suis sur.'],\n",
       " ['i m sure.', 'j en suis sure.'],\n",
       " ['i m tall.', 'je suis grande.'],\n",
       " ['i m thin.', 'je suis mince.'],\n",
       " ['i m tidy.', 'je suis ordonne.'],\n",
       " ['i m tidy.', 'je suis ordonnee.'],\n",
       " ['i m ugly.', 'je suis laid.'],\n",
       " ['i m ugly.', 'je suis laide.'],\n",
       " ['i m weak.', 'je suis faible.'],\n",
       " ['i m well.', 'je vais bien.'],\n",
       " ['i m well.', 'je me porte bien.'],\n",
       " ['i ve won.', 'j ai gagne.'],\n",
       " ['i ve won.', 'je l ai emporte.'],\n",
       " ['it works.', 'elle marche.'],\n",
       " ['it works.', 'ca fonctionne.'],\n",
       " ['it s his.', 'c est le sien.'],\n",
       " ['it s his.', 'c est la sienne.'],\n",
       " ['it s new.', 'c est nouveau.'],\n",
       " ['it s new.', 'c est neuf.'],\n",
       " ['it s odd.', 'c est bizarre.'],\n",
       " ['it s sad.', 'c est triste.'],\n",
       " ['keep out!', 'defense d entrer.'],\n",
       " ['keep out.', 'n entrez pas.'],\n",
       " ['leave it.', 'laisse tomber !'],\n",
       " ['leave it.', 'laissez tomber !'],\n",
       " ['leave me.', 'laissez moi !'],\n",
       " ['leave us.', 'laisse nous !'],\n",
       " ['leave us.', 'laissez nous !'],\n",
       " ['let s go!', 'allons y !'],\n",
       " ['let s go!', 'allons !'],\n",
       " ['let s go.', 'allons y !'],\n",
       " ['look out!', 'attention !'],\n",
       " ['marry me.', 'epouse moi !'],\n",
       " ['marry me.', 'epousez moi !'],\n",
       " ['may i go?', 'puis je partir ?'],\n",
       " ['may i go?', 'puis je y aller ?'],\n",
       " ['may i go?', 'puis je m y rendre ?'],\n",
       " ['she came.', 'elle est venue.'],\n",
       " ['she died.', 'elle est morte.'],\n",
       " ['she runs.', 'elle court.'],\n",
       " ['sit down!', 'assieds toi !'],\n",
       " ['sit down!', 'asseyez vous !'],\n",
       " ['sit here.', 'assieds toi ici.'],\n",
       " ['sit here.', 'asseyez vous ici.'],\n",
       " ['speak up!', 'parle plus fort !'],\n",
       " ['speak up!', 'parlez plus fort !'],\n",
       " ['stop tom.', 'arrete tom.'],\n",
       " ['stop tom.', 'stoppez tom.'],\n",
       " ['terrific!', 'genial !'],\n",
       " ['terrific!', 'excellent !'],\n",
       " ['terrific!', 'formidable !'],\n",
       " ['they won.', 'ils gagnerent.'],\n",
       " ['they won.', 'elles gagnerent.'],\n",
       " ['they won.', 'ils ont gagne.'],\n",
       " ['they won.', 'elles ont gagne.'],\n",
       " ['tom came.', 'tom est venu.'],\n",
       " ['tom died.', 'tom est mort.'],\n",
       " ['tom left.', 'tom est parti.'],\n",
       " ['tom left.', 'tom partit.'],\n",
       " ['tom lost.', 'tom a perdu.'],\n",
       " ['too late.', 'trop tard.'],\n",
       " ['trust me.', 'faites moi confiance.'],\n",
       " ['trust me.', 'fais moi confiance.'],\n",
       " ['try hard.', 'fais un effort.'],\n",
       " ['try some.', 'essaies en !'],\n",
       " ['try some.', 'essayez en !'],\n",
       " ['try this.', 'essaie ceci !'],\n",
       " ['try this.', 'essayez ceci !'],\n",
       " ['use this.', 'utilise ceci.'],\n",
       " ['use this.', 'utilisez ceci.'],\n",
       " ['use this.', 'emploie ceci !'],\n",
       " ['use this.', 'employez ceci !'],\n",
       " ['warn tom.', 'avertis tom.'],\n",
       " ['warn tom.', 'previens tom.'],\n",
       " ['watch me.', 'regarde moi !'],\n",
       " ['watch me.', 'regardez moi !'],\n",
       " ['watch us.', 'regardez nous !'],\n",
       " ['watch us.', 'regarde nous !'],\n",
       " ['we agree.', 'nous sommes d accord.'],\n",
       " ['we ll go.', 'nous irons.'],\n",
       " ['what for?', 'pour quoi faire ?'],\n",
       " ['what for?', 'a quoi bon ?'],\n",
       " ['what fun!', 'qu est ce qu on s est marres !'],\n",
       " ['what fun!', 'qu est ce qu on s est marrees !'],\n",
       " ['who died?', 'qui est mort ?'],\n",
       " ['who s he?', 'qui est il ?'],\n",
       " ['write me.', 'ecris moi !'],\n",
       " ['write me.', 'ecrivez moi !'],\n",
       " ['after you.', 'apres vous.'],\n",
       " ['aim. fire!', 'en joue ! feu !'],\n",
       " ['am i late?', 'suis je en retard ?'],\n",
       " ['answer me.', 'repondez moi.'],\n",
       " ['be seated.', 'assieds toi !'],\n",
       " ['be seated.', 'asseyez vous !'],\n",
       " ['birds fly.', 'les oiseaux volent.'],\n",
       " ['bless you.', 'a tes souhaits !'],\n",
       " ['call home!', 'appelle a la maison !'],\n",
       " ['calm down!', 'calmez vous !'],\n",
       " ['calm down.', 'calme toi.'],\n",
       " ['can we go?', 'pouvons nous partir ?'],\n",
       " ['can we go?', 'pouvons nous nous en aller ?'],\n",
       " ['can we go?', 'pouvons nous y aller ?'],\n",
       " ['catch him.', 'rattrape le.'],\n",
       " ['come back.', 'reviens !'],\n",
       " ['come back.', 'revenez !'],\n",
       " ['come here.', 'viens ici.'],\n",
       " ['come here.', 'venez la.'],\n",
       " ['come over!', 'viens !'],\n",
       " ['come over!', 'venez !'],\n",
       " ['come over.', 'venez ici !'],\n",
       " ['come over.', 'viens chez nous !'],\n",
       " ['come over.', 'venez chez nous !'],\n",
       " ['come over.', 'viens chez moi !'],\n",
       " ['come over.', 'venez chez moi !'],\n",
       " ['come soon.', 'viens bientot !'],\n",
       " ['come soon.', 'venez bientot !'],\n",
       " ['cool down.', 'calmez vous !'],\n",
       " ['did i win?', 'ai je gagne ?'],\n",
       " ['did i win?', 'l ai je emporte ?'],\n",
       " ['did i win?', 'est ce moi qui ai gagne ?'],\n",
       " ['dogs bark.', 'des chiens aboient.'],\n",
       " ['dogs bark.', 'les chiens aboient.'],\n",
       " ['don t ask.', 'ne demande pas !'],\n",
       " ['don t cry.', 'ne pleure pas !'],\n",
       " ['don t die.', 'ne meurs pas !'],\n",
       " ['don t die.', 'ne mourez pas !'],\n",
       " ['don t lie.', 'ne mens pas.'],\n",
       " ['don t run.', 'ne courez pas.'],\n",
       " ['don t run.', 'ne cours pas.'],\n",
       " ['excuse me.', 'excuse moi.'],\n",
       " ['fantastic!', 'fantastique !'],\n",
       " ['feel this.', 'sens ca !'],\n",
       " ['feel this.', 'sentez ca !'],\n",
       " ['feel this.', 'touche ca !'],\n",
       " ['feel this.', 'touchez ca !'],\n",
       " ['follow me.', 'suis moi.'],\n",
       " ['follow us.', 'suis nous !'],\n",
       " ['follow us.', 'suivez nous !'],\n",
       " ['forget it!', 'oublie !'],\n",
       " ['forget it!', 'oublie le !'],\n",
       " ['forget it!', 'oubliez !'],\n",
       " ['forget it!', 'oubliez le !'],\n",
       " ['forget it.', 'laisse tomber.'],\n",
       " ['forget it.', 'oublie.'],\n",
       " ['get a job.', 'trouve un emploi !'],\n",
       " ['get a job.', 'trouve un boulot !'],\n",
       " ['get a job.', 'trouvez un emploi !'],\n",
       " ['get a job.', 'trouvez un boulot !'],\n",
       " ['get ready.', 'prepare toi.'],\n",
       " ['get ready.', 'preparez vous.'],\n",
       " ['go get it.', 'va le chercher !'],\n",
       " ['go get it.', 'allez le chercher !'],\n",
       " ['go inside.', 'entrez !'],\n",
       " ['go to bed.', 'va au lit !'],\n",
       " ['go to bed.', 'allez au lit !'],\n",
       " ['good luck.', 'bonne chance !'],\n",
       " ['good luck.', 'bonne chance.'],\n",
       " ['grab that.', 'attrape ca !'],\n",
       " ['grab that.', 'attrapez ca !'],\n",
       " ['grab that.', 'saisis toi de ca !'],\n",
       " ['grab that.', 'saisissez vous de ca !'],\n",
       " ['grab this.', 'attrape ca !'],\n",
       " ['grab this.', 'attrapez ca !'],\n",
       " ['hands off.', 'pas touche !'],\n",
       " ['he is ill.', 'il est malade.'],\n",
       " ['he is old.', 'il est vieux.'],\n",
       " ['he s a dj.', 'il est dj.'],\n",
       " ['he s good.', 'il est bon.'],\n",
       " ['he s lazy.', 'il est paresseux.'],\n",
       " ['he s rich.', 'il est riche.'],\n",
       " ['here i am.', 'me voici.'],\n",
       " ['here s .', 'voila cinq dollars.'],\n",
       " ['hold fire.', 'halte au feu !'],\n",
       " ['hold fire.', 'cessez le feu !'],\n",
       " ['hold this.', 'tiens ca !'],\n",
       " ['hold this.', 'tenez ca !'],\n",
       " ['hold this.', 'tenez ceci !'],\n",
       " ['hold this.', 'tiens ceci !'],\n",
       " ['how awful!', 'c est affreux !'],\n",
       " ['how s tom?', 'comment tom va t il ?'],\n",
       " ['how s tom?', 'comment va tom ?'],\n",
       " ['i am busy.', 'je suis occupe.'],\n",
       " ['i am calm.', 'je suis calme.'],\n",
       " ['i am cold.', 'j ai froid.'],\n",
       " ['i am good.', 'je suis bon.'],\n",
       " ['i am here.', 'je suis ici.'],\n",
       " ['i am lazy.', 'je suis paresseux.'],\n",
       " ['i am lazy.', 'je suis faineant.'],\n",
       " ['i am lazy.', 'je suis paresseuse.'],\n",
       " ['i am lazy.', 'je suis faineante.'],\n",
       " ['i am okay.', 'je vais bien.'],\n",
       " ['i am sick.', 'je suis malade.'],\n",
       " ['i am sure.', 'je suis sur.'],\n",
       " ['i am sure.', 'je suis certain.'],\n",
       " ['i am weak.', 'je suis faible.'],\n",
       " ['i beg you.', 'je vous en prie.'],\n",
       " ['i beg you.', 'je vous en conjure.'],\n",
       " ['i beg you.', 'je vous en supplie.'],\n",
       " ['i beg you.', 'je te prie.'],\n",
       " ['i can run.', 'je sais courir.'],\n",
       " ['i can ski.', 'je sais skier.'],\n",
       " ['i cringed.', 'j eus un mouvement de recul.'],\n",
       " ['i cringed.', 'j ai eu un mouvement de recul.'],\n",
       " ['i cringed.', 'je suis rentre en moi meme.'],\n",
       " ['i give up.', 'j abandonne.'],\n",
       " ['i got hot.', 'je me suis mis a avoir chaud.'],\n",
       " ['i got hot.', 'je me suis mise a avoir chaud.'],\n",
       " ['i had fun.', 'je me suis amuse.'],\n",
       " ['i had fun.', 'je me suis amusee.'],\n",
       " ['i had fun.', 'je me suis marre.'],\n",
       " ['i had fun.', 'je me suis marree.'],\n",
       " ['i hate it.', 'je deteste ca.'],\n",
       " ['i hope so.', 'j espere bien.'],\n",
       " ['i knew it.', 'je le savais.'],\n",
       " ['i like it.', 'j aime ca.'],\n",
       " ['i lost it.', 'je l ai perdu.'],\n",
       " ['i love it!', 'j adore ca !'],\n",
       " ['i love it.', 'j adore ca !'],\n",
       " ['i mean it!', 'je suis serieux !'],\n",
       " ['i mean it.', 'je suis serieux.'],\n",
       " ['i must go.', 'je dois y aller.'],\n",
       " ['i must go.', 'il faut que j y aille.'],\n",
       " ['i must go.', 'il me faut y aller.'],\n",
       " ['i must go.', 'il me faut partir.'],\n",
       " ['i must go.', 'il me faut m en aller.'],\n",
       " ['i must go.', 'je dois partir.'],\n",
       " ['i must go.', 'je dois m en aller.'],\n",
       " ['i must go.', 'il faut que je m en aille.'],\n",
       " ['i need it.', 'j en ai besoin.'],\n",
       " ['i need it.', 'il me le faut.'],\n",
       " ['i noticed.', 'j ai remarque.'],\n",
       " ['i promise.', 'je le promets.'],\n",
       " ['i said no.', 'j ai dit non.'],\n",
       " ['i said so.', 'je l ai dit.'],\n",
       " ['i saw him.', 'je l ai vu.'],\n",
       " ['i saw him.', 'je l ai vu.'],\n",
       " ['i saw him.', 'je le vis.'],\n",
       " ['i saw one.', 'j en ai vu une.'],\n",
       " ['i saw one.', 'j en ai vu un.'],\n",
       " ['i saw you.', 'je vous vis.'],\n",
       " ['i saw you.', 'je te vis.'],\n",
       " ['i saw you.', 'je t ai vue.'],\n",
       " ['i saw you.', 'je t ai vu.'],\n",
       " ['i saw you.', 'je vous ai vues.'],\n",
       " ['i saw you.', 'je vous ai vus.'],\n",
       " ['i saw you.', 'je vous ai vue.'],\n",
       " ['i saw you.', 'je vous ai vu.'],\n",
       " ['i see tom.', 'je vois tom.'],\n",
       " ['i tripped.', 'j ai trebuche.'],\n",
       " ['i tripped.', 'j ai plane.'],\n",
       " ['i want it.', 'je le veux.'],\n",
       " ['i was new.', 'j etais nouveau.'],\n",
       " ['i was new.', 'j etais nouvelle.'],\n",
       " ['i will go.', 'j irai.'],\n",
       " ['i woke up.', 'je me suis reveille.'],\n",
       " ['i woke up.', 'je me suis eveille.'],\n",
       " ['i d agree.', 'je serais d accord.'],\n",
       " ['i d leave.', 'je partirais.'],\n",
       " ['i ll call.', 'j appellerai.'],\n",
       " ['i ll cook.', 'je cuisinerai.'],\n",
       " ['i ll help.', 'j aiderai.'],\n",
       " ['i ll live.', 'je vivrai.'],\n",
       " ['i ll obey.', 'j obeirai.'],\n",
       " ['i ll pack.', 'je ferai mon sac.'],\n",
       " ['i ll pack.', 'je ferai ma valise.'],\n",
       " ['i ll pack.', 'je plierai mes gaules.'],\n",
       " ['i ll pass.', 'je passerai.'],\n",
       " ['i ll quit.', 'j abandonnerai.'],\n",
       " ['i ll sing.', 'je chanterai.'],\n",
       " ['i ll swim.', 'je nagerai.'],\n",
       " ['i ll wait.', 'j attendrai.'],\n",
       " ['i ll walk.', 'je marcherai.'],\n",
       " ['i ll work.', 'je vais travailler.'],\n",
       " ['i ll work.', 'je travaillerai.'],\n",
       " ['i m a cop.', 'je suis flic.'],\n",
       " ['i m a man.', 'je suis un homme.'],\n",
       " ['i m alone.', 'je suis seule.'],\n",
       " ['i m alone.', 'je suis seul.'],\n",
       " ['i m armed.', 'je suis arme.'],\n",
       " ['i m armed.', 'je suis armee.'],\n",
       " ['i m awake.', 'je suis reveille.'],\n",
       " ['i m blind.', 'je suis aveugle.'],\n",
       " ['i m broke.', 'je suis fauche.'],\n",
       " ['i m crazy.', 'je suis fou.'],\n",
       " ['i m crazy.', 'je suis folle.'],\n",
       " ['i m cured.', 'je suis gueri.'],\n",
       " ['i m cured.', 'je suis guerie.'],\n",
       " ['i m drunk.', 'je suis saoul.'],\n",
       " ['i m drunk.', 'je suis soul.'],\n",
       " ['i m drunk.', 'je suis ivre.'],\n",
       " ['i m dying.', 'je me meurs.'],\n",
       " ['i m early.', 'je suis en avance.'],\n",
       " ['i m first.', 'je suis en premier.'],\n",
       " ['i m fussy.', 'je suis difficile.'],\n",
       " ['i m fussy.', 'je suis tatillon.'],\n",
       " ['i m fussy.', 'je suis tatillonne.'],\n",
       " ['i m going.', 'je pars maintenant.'],\n",
       " ['i m going.', 'je me tire.'],\n",
       " ['i m going.', 'j y vais.'],\n",
       " ['i m going.', 'je pars.'],\n",
       " ['i m loyal.', 'je suis loyal.'],\n",
       " ['i m loyal.', 'je suis loyale.'],\n",
       " ['i m lucky.', 'je suis veinard.'],\n",
       " ['i m lucky.', 'je suis veinarde.'],\n",
       " ['i m lucky.', 'j ai du pot.'],\n",
       " ['i m lucky.', 'je suis chanceux.'],\n",
       " ['i m lucky.', 'je suis chanceuse.'],\n",
       " ['i m lying.', 'je suis en train de mentir.'],\n",
       " ['i m quiet.', 'je suis tranquille.'],\n",
       " ['i m ready!', 'je suis prete !'],\n",
       " ['i m ready!', 'je suis pret !'],\n",
       " ['i m ready.', 'je suis pret.'],\n",
       " ['i m right.', 'j ai raison.'],\n",
       " ['i m sober.', 'je suis sobre.'],\n",
       " ['i m sorry.', 'excuse moi.'],\n",
       " ['i m sorry.', 'desole.'],\n",
       " ['i m sorry.', 'desole !'],\n",
       " ['i m sorry.', 'je suis desole.'],\n",
       " ['i m sorry.', 'je suis desolee.'],\n",
       " ['i m stuck.', 'je suis coincee.'],\n",
       " ['i m timid.', 'je suis timide.'],\n",
       " ['i m tired.', 'je suis fatigue !'],\n",
       " ['i m tough.', 'je suis dur.'],\n",
       " ['i m tough.', 'je suis dure.'],\n",
       " ['i m tough.', 'je suis dur a cuire.'],\n",
       " ['i m tough.', 'je suis dure a cuire.'],\n",
       " ['i m yours.', 'je suis a toi.'],\n",
       " ['i m yours.', 'je suis a vous.'],\n",
       " ['i ve lost.', 'j ai perdu.'],\n",
       " ['is tom ok?', 'est ce que tom va bien ?'],\n",
       " ['is tom ok?', 'tom va t il bien ?'],\n",
       " ['is it bad?', 'c est grave ?'],\n",
       " ['is it far?', 'est ce eloigne ?'],\n",
       " ['is it far?', 'est ce loin ?'],\n",
       " ['is it you?', 'est ce toi ?'],\n",
       " ['is it you?', 'est ce vous ?'],\n",
       " ['is it you?', 'est ce que c est vous ?'],\n",
       " ['it failed.', 'ca a echoue.'],\n",
       " ['it snowed.', 'il a neige.'],\n",
       " ['it stinks.', 'ca sent mauvais.'],\n",
       " ['it stinks.', 'ca pue.'],\n",
       " ['it worked.', 'ca a fonctionne.'],\n",
       " ['it worked.', 'ca a marche.'],\n",
       " ['it s .', 'il est trois heures et demie.'],\n",
       " ['it s cold.', 'il fait froid.'],\n",
       " ['it s dark.', 'c est sombre.'],\n",
       " ['it s dead.', 'elle est morte.'],\n",
       " ['it s dead.', 'c est mort.'],\n",
       " ['it s dead.', 'il est mort.'],\n",
       " ['it s done.', 'c est fait.'],\n",
       " ['it s food.', 'c est de la nourriture.'],\n",
       " ['it s free.', 'c est gratuit.'],\n",
       " ['it s hers.', 'c est le sien.'],\n",
       " ['it s hers.', 'c est la sienne.'],\n",
       " ['it s late.', 'il est tard.'],\n",
       " ['it s lost.', 'c est perdu.'],\n",
       " ['it s open.', 'c est ouvert.'],\n",
       " ['it s sand.', 'c est du sable.'],\n",
       " ['it s true!', 'c est vrai !'],\n",
       " ['it s work.', 'c est du boulot.'],\n",
       " ['let it be.', 'ainsi soit il.'],\n",
       " ['let it be.', 'laisse faire.'],\n",
       " ['let me go!', 'laisse moi partir !'],\n",
       " ['let me go!', 'laissez moi partir !'],\n",
       " ['let me go!', 'lache moi !'],\n",
       " ['let me go!', 'laisse moi m en aller !'],\n",
       " ['let me go!', 'laissez moi m en aller !'],\n",
       " ['let me go!', 'laissez moi y aller !'],\n",
       " ['let me go!', 'laisse moi y aller !'],\n",
       " ['let me go.', 'laisse moi partir !'],\n",
       " ['let me go.', 'laissez moi partir !'],\n",
       " ['let me go.', 'laisse moi m en aller !'],\n",
       " ['let me go.', 'laissez moi m en aller !'],\n",
       " ['let me in.', 'laissez moi rentrer.'],\n",
       " ['let me in.', 'laissez moi entrer.'],\n",
       " ['let s ask.', 'demandons.'],\n",
       " ['let s see.', 'voyons voir !'],\n",
       " ['lie still.', 'reste allonge immobile !'],\n",
       " ['lie still.', 'reste allongee immobile !'],\n",
       " ['lie still.', 'restez allonge immobile !'],\n",
       " ['lie still.', 'restez allongee immobile !'],\n",
       " ['lie still.', 'restez allonges immobiles !'],\n",
       " ['lie still.', 'restez allongees immobiles !'],\n",
       " ['loosen up.', 'echauffe toi !'],\n",
       " ['loosen up.', 'echauffez vous !'],\n",
       " ['loosen up.', 'detends toi !'],\n",
       " ['loosen up.', 'laisse toi aller !'],\n",
       " ['loosen up.', 'laissez vous aller !'],\n",
       " ['nice shot!', 'joli coup !'],\n",
       " ['of course!', 'pour sur.'],\n",
       " ['of course!', 'mais ouais !'],\n",
       " ['of course.', 'bien sur.'],\n",
       " ['of course.', 'pour sur.'],\n",
       " ['oh please!', 'je vous en prie !'],\n",
       " ['oh please!', 'je t en prie !'],\n",
       " ['pardon me?', 'pardon ?'],\n",
       " ['pardon me?', 'je vous demande pardon ?'],\n",
       " ['pardon me?', 'plait il ?'],\n",
       " ['read this.', 'lis ceci.'],\n",
       " ['say hello.', 'dis bonjour.'],\n",
       " ['see above.', 'voyez ci dessus.'],\n",
       " ['seriously?', 'vraiment ?'],\n",
       " ['seriously?', 'est ce serieux ?'],\n",
       " ['seriously?', 'serieusement ?'],\n",
       " ['she cried.', 'elle pleurait.'],\n",
       " ['she cried.', 'elle pleura.'],\n",
       " ['she tried.', 'elle a essaye.'],\n",
       " ['she walks.', 'elle marche.'],\n",
       " ['she s hot.', 'elle est chaude.'],\n",
       " ['she s hot.', 'elle est tres attirante.'],\n",
       " ['sign here.', 'signe ici.'],\n",
       " ['sign here.', 'signez ici.'],\n",
       " ['slow down.', 'ralentis !'],\n",
       " ['slow down.', 'ralentissez !'],\n",
       " ['stay back.', 'reste en arriere !'],\n",
       " ['stay back.', 'restez en arriere !'],\n",
       " ['stay calm.', 'restez calme.'],\n",
       " ['stay calm.', 'reste calme.'],\n",
       " ['stay calm.', 'garde ton calme.'],\n",
       " ['stay calm.', 'garde ton sang froid.'],\n",
       " ['stay calm.', 'reste tranquille.'],\n",
       " ['stay down.', 'reste baisse.'],\n",
       " ['stay down.', 'restez baisse.'],\n",
       " ['stay thin.', 'reste mince !'],\n",
       " ['stop that!', 'arretez !'],\n",
       " ['stop that.', 'arretez ca !'],\n",
       " ['stop that.', 'arrete ca !'],\n",
       " ['take care.', 'prends soin de toi.'],\n",
       " ['take care.', 'prenez soin de vous.'],\n",
       " ['take mine.', 'prends le mien.'],\n",
       " ['take mine.', 'prends la mienne.'],\n",
       " ['take mine.', 'prenez le mien.'],\n",
       " ['take mine.', 'prenez la mienne.'],\n",
       " ['take mine.', 'prends les miens.'],\n",
       " ['take mine.', 'prends les miennes.'],\n",
       " ['take mine.', 'prenez les miens.'],\n",
       " ['take mine.', 'prenez les miennes.'],\n",
       " ['take this.', 'prends ca.'],\n",
       " ['take this.', 'prenez ca.'],\n",
       " ['thank you.', 'merci !'],\n",
       " ['that s it.', 'c est ca.'],\n",
       " ['they fell.', 'ils sont tombes.'],\n",
       " ['they fell.', 'elles sont tombees.'],\n",
       " ['they left.', 'ils sont partis.'],\n",
       " ['they left.', 'elles sont parties.'],\n",
       " ['they lied.', 'ils ont menti.'],\n",
       " ['they lied.', 'elles ont menti.'],\n",
       " ['they lost.', 'ils ont perdu.'],\n",
       " ['they lost.', 'elles ont perdu.'],\n",
       " ['they swam.', 'ils nageaient.'],\n",
       " ['they swam.', 'elles nageaient.'],\n",
       " ['they swam.', 'ils nagerent.'],\n",
       " ['they swam.', 'elles nagerent.'],\n",
       " ['tom knits.', 'tom tricote.'],\n",
       " ['tom knows.', 'tom sait.'],\n",
       " ['tom spoke.', 'tom a parle.'],\n",
       " ['tom s fat.', 'tom est gros.'],\n",
       " ['try again.', 'essaie encore.'],\n",
       " ['try again.', 'essayez de nouveau.'],\n",
       " ['try again.', 'essaie de nouveau.'],\n",
       " ['try it on.', 'essaie le !'],\n",
       " ['turn left.', 'tourne a gauche.'],\n",
       " ['wait here.', 'attends ici.'],\n",
       " ['wait here.', 'attends la.'],\n",
       " ['wait here.', 'attendez ici.'],\n",
       " ['wait here.', 'attendez la.'],\n",
       " ['watch out!', 'attention !'],\n",
       " ['watch out!', 'faites attention !'],\n",
       " ['watch out!', 'fais attention !'],\n",
       " ['we agreed.', 'nous sommes tombes d accord.'],\n",
       " ['we did it!', 'nous avons reussi !'],\n",
       " ['we did it.', 'nous avons reussi !'],\n",
       " ['we did it.', 'nous l avons fait.'],\n",
       " ['we forgot.', 'nous avons oublie.'],\n",
       " ['we saw it.', 'nous l avons vu.'],\n",
       " ['we saw it.', 'nous l avons vue.'],\n",
       " ['we talked.', 'nous discutames.'],\n",
       " ['we talked.', 'nous avons discute.'],\n",
       " ['we talked.', 'nous nous sommes entretenus.'],\n",
       " ['we talked.', 'nous nous sommes entretenues.'],\n",
       " ['we talked.', 'nous nous entretinmes.'],\n",
       " ['we waited.', 'nous attendimes.'],\n",
       " ['we waited.', 'nous avons attendu.'],\n",
       " ['we ll try.', 'nous essayerons.'],\n",
       " ['we ll try.', 'nous tenterons.'],\n",
       " ['we ll win.', 'nous l emporterons.'],\n",
       " ['we ll win.', 'nous gagnerons.'],\n",
       " ['we re hot.', 'nous avons chaud.'],\n",
       " ['we re sad.', 'nous sommes tristes.'],\n",
       " ['we re shy.', 'nous sommes timides.'],\n",
       " ['well done!', 'bien vu !'],\n",
       " ['well done!', 'bien cuit !'],\n",
       " ['well done!', 'a la bonne heure !'],\n",
       " ['well done!', 'pas mal !'],\n",
       " ['what else?', 'quoi d autre ?'],\n",
       " ['what else?', 'quoi d autre ?'],\n",
       " ['what s up?', 'quoi de beau ?'],\n",
       " ['who cares?', 'qui s en preoccupe ?'],\n",
       " ['who cares?', 'qui s en soucie ?'],\n",
       " ['who cares?', 'a qui ceci importe t il ?'],\n",
       " ['who is he?', 'qui est ce ?'],\n",
       " ['who is he?', 'qui est il ?'],\n",
       " ['who is it?', 'qui est ce ?'],\n",
       " ['who is it?', 'qui est il ?'],\n",
       " ['who knows?', 'qui sait ?'],\n",
       " ['who spoke?', 'qui a parle ?'],\n",
       " ['who ll go?', 'qui ira ?'],\n",
       " ['who s ill?', 'qui est malade ?'],\n",
       " ['wonderful!', 'magnifique !'],\n",
       " ['write tom.', 'ecrivez a tom.'],\n",
       " ['you drive.', 'tu conduis.'],\n",
       " ['you drive.', 'toi conduis !'],\n",
       " ['you drive.', 'vous conduisez.'],\n",
       " ['you idiot!', 'espece d imbecile !'],\n",
       " ['you idiot!', 'espece d idiot !'],\n",
       " ['you start.', 'tu commences.'],\n",
       " ['you start.', 'vous commencez.'],\n",
       " ['you tried.', 'tu as essaye.'],\n",
       " ['you tried.', 'vous avez essaye.'],\n",
       " ['all aboard!', 'tout le monde a bord!'],\n",
       " ['am i clear?', 'suis je clair ?'],\n",
       " ['am i clear?', 'suis je claire ?'],\n",
       " ['am i dying?', 'suis je en train de mourir ?'],\n",
       " ['am i dying?', 'suis je en train de trepasser ?'],\n",
       " ['am i early?', 'suis je en avance ?'],\n",
       " ['am i fired?', 'vous me mettez a la porte ?'],\n",
       " ['am i first?', 'suis je le premier ?'],\n",
       " ['am i first?', 'suis je la premiere ?'],\n",
       " ['am i hired?', 'suis je engage ?'],\n",
       " ['am i hired?', 'suis je engagee ?'],\n",
       " ['am i right?', 'ai je raison ?'],\n",
       " ['am i right?', 'suis je dans le vrai ?'],\n",
       " ['am i wrong?', 'me trompe je ?'],\n",
       " ['am i wrong?', 'ai je tort ?'],\n",
       " ['am i wrong?', 'est ce que je me trompe ?'],\n",
       " ['are you ok?', 'est ce que tu vas bien ?'],\n",
       " ['are you up?', 'es tu leve ?'],\n",
       " ['are you up?', 'es tu levee ?'],\n",
       " ['are you up?', 'etes vous leve ?'],\n",
       " ['are you up?', 'etes vous levee ?'],\n",
       " ['are you up?', 'etes vous leves ?'],\n",
       " ['are you up?', 'etes vous levees ?'],\n",
       " ['are you up?', 'es tu debout ?'],\n",
       " ['are you up?', 'etes vous debout ?'],\n",
       " ['ask anyone.', 'demandez a n importe qui.'],\n",
       " ['ask anyone.', 'demande a n importe qui.'],\n",
       " ['ask anyone.', 'demande a quiconque !'],\n",
       " ['ask around.', 'demande alentour !'],\n",
       " ['ask around.', 'demandez alentour !'],\n",
       " ['be careful.', 'sois prudent !'],\n",
       " ['be careful.', 'sois prudente !'],\n",
       " ['be careful.', 'soyez prudent !'],\n",
       " ['be careful.', 'soyez prudente !'],\n",
       " ['be careful.', 'soyez prudents !'],\n",
       " ['be careful.', 'soyez prudentes !'],\n",
       " ['be content.', 'sois satisfait !'],\n",
       " ['be content.', 'sois satisfaite !'],\n",
       " ['be content.', 'soyez satisfait !'],\n",
       " ['be content.', 'soyez satisfaite !'],\n",
       " ['be content.', 'soyez satisfaits !'],\n",
       " ['be content.', 'soyez satisfaites !'],\n",
       " ['be serious.', 'soyez serieux !'],\n",
       " ['be serious.', 'soyez serieuse !'],\n",
       " ['be serious.', 'soyez serieuses !'],\n",
       " ['be serious.', 'sois serieux !'],\n",
       " ['be serious.', 'sois serieuse !'],\n",
       " ['birds sing.', 'les oiseaux chantent.'],\n",
       " ['bottoms up!', 'sante !'],\n",
       " ['can i come?', 'puis je venir ?'],\n",
       " ['can i help?', 'puis je aider ?'],\n",
       " ['can i stay?', 'puis je rester ?'],\n",
       " ['check this.', 'verifie ca.'],\n",
       " ['check this.', 'regarde ca.'],\n",
       " ['choose one.', 'choisis en un.'],\n",
       " ['choose one.', 'choisis en une.'],\n",
       " ['come along.', 'joignez vous a nous.'],\n",
       " ['come on in!', 'entre donc !'],\n",
       " ['come on in.', 'entre.'],\n",
       " ['come quick!', 'viens vite !'],\n",
       " ['come quick!', 'jouis vite !'],\n",
       " ['come to me.', 'venez a moi.'],\n",
       " ['come to us.', 'venez a nous.'],\n",
       " ['cut it out!', 'arrete !'],\n",
       " ['cut it out!', 'arretez !'],\n",
       " ['cut it out.', 'assez !'],\n",
       " ['did we win?', 'avons nous gagne ?'],\n",
       " ['do i stink?', 'est ce que je pue ?'],\n",
       " ['do come in!', 'je vous en prie entrez !'],\n",
       " ['do men cry?', 'les hommes pleurent ils ?'],\n",
       " ['don t fret.', 'te tracasse pas.'],\n",
       " ['don t fret.', 'vous tracassez pas.'],\n",
       " ['don t fret.', 'ne te tracasse pas.'],\n",
       " ['don t fret.', 'ne vous tracassez pas.'],\n",
       " ['don t move!', 'ne bouge pas !'],\n",
       " ['don t move!', 'ne bougez pas !'],\n",
       " ['don t move.', 'ne bougez pas.'],\n",
       " ['don t move.', 'ne bouge pas.'],\n",
       " ['don t rush.', 'ne te precipite pas.'],\n",
       " ['don t rush.', 'ne vous precipitez pas.'],\n",
       " ['don t talk!', 'ne parle pas !'],\n",
       " ['don t talk!', 'ne parlez pas !'],\n",
       " ['don t wait.', 'n attends pas !'],\n",
       " ['don t wait.', 'n attendez pas !'],\n",
       " ['duty calls.', 'le devoir m appelle.'],\n",
       " ['fill it up.', 'le plein.'],\n",
       " ['find a job.', 'trouve un emploi !'],\n",
       " ['find a job.', 'trouve un boulot !'],\n",
       " ['follow him.', 'suis le !'],\n",
       " ['follow him.', 'suivez le !'],\n",
       " ['forget him.', 'oublie le.'],\n",
       " ['forget him.', 'oubliez le.'],\n",
       " ['forgive me.', 'pardonnez moi.'],\n",
       " ['get a life!', 'achete toi une vie !'],\n",
       " ['get to bed.', 'va au lit !'],\n",
       " ['get to bed.', 'au lit !'],\n",
       " ['get to bed.', 'allez au lit !'],\n",
       " ['give it up.', 'laisse tomber.'],\n",
       " ['give it up.', 'abandonne !'],\n",
       " ['go warm up.', 'va t echauffer !'],\n",
       " ['go warm up.', 'allez vous echauffer !'],\n",
       " ['he gave in.', 'il a cede.'],\n",
       " ['he gave in.', 'il ceda.'],\n",
       " ['he hung up.', 'il a raccroche.'],\n",
       " ['he hung up.', 'il raccrocha.'],\n",
       " ['he is a dj.', 'il est dj.'],\n",
       " ['he is busy.', 'il a a faire.'],\n",
       " ['he is here!', 'il est ici !'],\n",
       " ['he is kind.', 'il est gentil.'],\n",
       " ['he is late.', 'il est en retard.'],\n",
       " ['he is lazy.', 'il est faineant.'],\n",
       " ['he is lazy.', 'il est paresseux.'],\n",
       " ['he is poor.', 'il est pauvre.'],\n",
       " ['he is sick.', 'il est malade.'],\n",
       " ['he made it.', 'il a reussi.'],\n",
       " ['he s swiss.', 'il est suisse.'],\n",
       " ['he s swiss.', 'il est helvete.'],\n",
       " ['he s broke.', 'il est ruine.'],\n",
       " ['he s broke.', 'il est fauche.'],\n",
       " ['he s drunk.', 'il est ivre.'],\n",
       " ['he s drunk.', 'il est soul.'],\n",
       " ['he s smart.', 'il est intelligent.'],\n",
       " ['here he is!', 'il est ici !'],\n",
       " ['here it is.', 'le voila.'],\n",
       " ['here it is.', 'tenez.'],\n",
       " ['here it is.', 'le voici.'],\n",
       " ['here we go.', 'c est parti !'],\n",
       " ['here we go.', 'on est partis !'],\n",
       " ['hold still.', 'tiens toi tranquille !'],\n",
       " ['hold still.', 'tenez vous tranquille !'],\n",
       " ['how lovely!', 'comme c est charmant !'],\n",
       " ['how s work?', 'comment va le travail ?'],\n",
       " ['hurry home.', 'depeche toi d aller chez toi !'],\n",
       " ['hurry home.', 'depechez vous d aller chez vous !'],\n",
       " ['i am a man.', 'je suis un homme.'],\n",
       " ['i am human.', 'je suis humain.'],\n",
       " ['i am ready.', 'je suis pret.'],\n",
       " ['i am right.', 'j ai raison.'],\n",
       " ['i am sorry.', 'je suis desole.'],\n",
       " ['i am sorry.', 'je suis desolee.'],\n",
       " ['i am tired.', 'je suis fatigue !'],\n",
       " ['i am tired.', 'je suis creve.'],\n",
       " ['i broke it.', 'je l ai casse.'],\n",
       " ['i broke it.', 'je l ai cassee.'],\n",
       " ['i built it.', 'je l ai construit.'],\n",
       " ['i built it.', 'je l ai construite.'],\n",
       " ['i can come.', 'je peux venir.'],\n",
       " ['i can cook.', 'je sais cuisiner.'],\n",
       " ['i can jump.', 'je peux sauter.'],\n",
       " ['i can read.', 'je sais lire.'],\n",
       " ['i can read.', 'je peux lire.'],\n",
       " ['i can sing.', 'je sais chanter.'],\n",
       " ['i can stay.', 'je peux rester.'],\n",
       " ['i can swim.', 'je sais nager.'],\n",
       " ['i can wait.', 'je peux attendre.'],\n",
       " ['i can walk.', 'je peux marcher.'],\n",
       " ['i can t go.', 'je ne peux pas y aller.'],\n",
       " ['i can t go.', 'je ne peux pas m y rendre.'],\n",
       " ['i can t go.', 'je ne peux pas partir.'],\n",
       " ['i did that.', 'j ai fait cela.'],\n",
       " ['i did that.', 'c est moi qui l ai fait.'],\n",
       " ['i disagree.', 'je ne suis pas d accord.'],\n",
       " ['i do worry.', 'je me fais vraiment du souci.'],\n",
       " ['i doubt it.', 'j en doute.'],\n",
       " ['i eat here.', 'je mange ici.'],\n",
       " ['i envy him.', 'je l envie.'],\n",
       " ['i envy you.', 'je vous envie.'],\n",
       " ['i envy you.', 'je t envie.'],\n",
       " ['i feel bad.', 'je me sens mal.'],\n",
       " ['i feel old.', 'je me sens vieux.'],\n",
       " ['i feel old.', 'je me sens vieille.'],\n",
       " ['i felt bad.', 'je me suis senti mal.'],\n",
       " ['i felt ill.', 'je me suis senti mal.'],\n",
       " ['i felt ill.', 'je me sentais malade.'],\n",
       " ['i felt ill.', 'je me sentis malade.'],\n",
       " ['i felt sad.', 'j ai ressenti de la tristesse.'],\n",
       " ['i fixed it.', 'je l ai repare.'],\n",
       " ['i fixed it.', 'je l ai reparee.'],\n",
       " ['i fixed it.', 'je la reparai.'],\n",
       " ['i fixed it.', 'je le reparai.'],\n",
       " ['i found it.', 'je l ai trouve.'],\n",
       " ['i found it.', 'je le trouvai.'],\n",
       " ['i got busy.', 'je suis devenu occupe.'],\n",
       " ['i got busy.', 'je suis devenu occupee.'],\n",
       " ['i got lost.', 'je me suis perdu.'],\n",
       " ['i got sick.', 'je suis devenu malade.'],\n",
       " ['i got sick.', 'je suis devenue malade.'],\n",
       " ...]"
      ]
     },
     "execution_count": 13,
     "metadata": {},
     "output_type": "execute_result"
    }
   ],
   "source": [
    "pairs"
   ]
  },
  {
   "cell_type": "code",
   "execution_count": 14,
   "id": "6ac1f88f",
   "metadata": {},
   "outputs": [],
   "source": [
    "#fr_tokenizer = get_tokenizer('spacy', language='fr')\n",
    "#en_tokenizer = get_tokenizer('spacy', language='en')\n",
    "fr_tokenizer = get_tokenizer('spacy', language='fr_core_news_sm')\n",
    "en_tokenizer = get_tokenizer('spacy', language='en_core_web_sm')"
   ]
  },
  {
   "cell_type": "code",
   "execution_count": 15,
   "id": "3ee8f66e",
   "metadata": {},
   "outputs": [],
   "source": [
    "SPECIALS = ['<unk>', '<pad>', '<bos>', '<eos>']"
   ]
  },
  {
   "cell_type": "code",
   "execution_count": 16,
   "id": "333a06c9",
   "metadata": {},
   "outputs": [],
   "source": [
    "en_list = []\n",
    "fr_list = []\n",
    "en_counter = Counter()\n",
    "fr_counter = Counter()\n",
    "en_lengths = []\n",
    "fr_lengths = []\n",
    "for en, fr in pairs:\n",
    "    en_toks = en_tokenizer(en)\n",
    "    fr_toks = fr_tokenizer(fr)\n",
    "    #print(en_toks,fr_toks)\n",
    "    en_list += [en_toks]\n",
    "    fr_list += [fr_toks]\n",
    "    en_counter.update(en_toks)\n",
    "    fr_counter.update(fr_toks)\n",
    "    en_lengths.append(len(en_toks))\n",
    "    fr_lengths.append(len(fr_toks))"
   ]
  },
  {
   "cell_type": "code",
   "execution_count": 17,
   "id": "7e07f546",
   "metadata": {},
   "outputs": [],
   "source": [
    "en_vocab = build_vocab_from_iterator(en_list, specials=SPECIALS)\n",
    "fr_vocab = build_vocab_from_iterator(fr_list, specials=SPECIALS)"
   ]
  },
  {
   "cell_type": "code",
   "execution_count": 18,
   "id": "286f0a41",
   "metadata": {},
   "outputs": [
    {
     "data": {
      "image/png": "[encoded data removed]",
      "text/plain": [
       "<Figure size 800x600 with 2 Axes>"
      ]
     },
     "metadata": {},
     "output_type": "display_data"
    }
   ],
   "source": [
    "fig = plt.figure(figsize=(8, 6))\n",
    "ax0 = fig.add_subplot(211)\n",
    "ax0.hist(en_lengths, rwidth=0.8, color='gray')\n",
    "ax0.set_title(\"English Sentence Length\")\n",
    "ax0.set_xlabel(\"# Tokens in Sentence\")\n",
    "\n",
    "ax1 = fig.add_subplot(212)\n",
    "ax1.hist(fr_lengths, rwidth=0.8, color='gray')\n",
    "ax1.set_title(\"French Sentence Length\")\n",
    "ax1.set_xlabel(\"# Tokens in Sentence\")\n",
    "\n",
    "plt.tight_layout()\n",
    "plt.show()"
   ]
  },
  {
   "cell_type": "code",
   "execution_count": 19,
   "id": "f3f07bc4",
   "metadata": {},
   "outputs": [
    {
     "data": {
      "image/png": "[encoded data removed]",
      "text/plain": [
       "<Figure size 800x600 with 2 Axes>"
      ]
     },
     "metadata": {},
     "output_type": "display_data"
    }
   ],
   "source": [
    "plt.figure(figsize=(8,6))\n",
    "plt.hist2d(en_lengths, fr_lengths, bins=MAX_SENTENCE_LENGTH-2, cmap='binary')\n",
    "plt.title(\"Joint Distribution of Sentence Lengths\", fontsize=14)\n",
    "plt.xlabel(\"# English Tokens\")\n",
    "plt.ylabel(\"# French Tokens\")\n",
    "plt.colorbar()\n",
    "plt.show()"
   ]
  },
  {
   "cell_type": "code",
   "execution_count": 20,
   "id": "9ba1ba4b",
   "metadata": {},
   "outputs": [],
   "source": [
    "def plot_top_words(counter, k=20, ax=None):\n",
    "    top_k = counter.most_common(k)\n",
    "    words, freqs = zip(*reversed(top_k))\n",
    "    \n",
    "    if ax is None:\n",
    "        plt.barh(words, freqs, color='gray')\n",
    "    else:\n",
    "        ax.barh(words, freqs, color='gray')"
   ]
  },
  {
   "cell_type": "code",
   "execution_count": 21,
   "id": "9fac366f",
   "metadata": {},
   "outputs": [
    {
     "data": {
      "image/png": "[encoded data removed]",
      "text/plain": [
       "<Figure size 1200x600 with 2 Axes>"
      ]
     },
     "metadata": {},
     "output_type": "display_data"
    }
   ],
   "source": [
    "fig = plt.figure(figsize=(12, 6))\n",
    "ax0 = fig.add_subplot(121)\n",
    "plot_top_words(en_counter, ax=ax0)\n",
    "ax0.set_title(\"Top 20 English Words\")\n",
    "ax0.set_xlabel(\"Raw Frequency\")\n",
    "\n",
    "ax1 = fig.add_subplot(122)\n",
    "plot_top_words(fr_counter, ax=ax1)\n",
    "ax1.set_title(\"Top 20 French Words\")\n",
    "ax1.set_xlabel(\"Raw Frequency\")\n",
    "\n",
    "plt.tight_layout()\n",
    "plt.show()"
   ]
  },
  {
   "cell_type": "code",
   "execution_count": 22,
   "id": "eed04e0e",
   "metadata": {},
   "outputs": [
    {
     "name": "stdout",
     "output_type": "stream",
     "text": [
      "\n",
      "  Training pairs: 121,636\n",
      "Validation pairs: 6,855\n",
      "      Test pairs: 6,793\n"
     ]
    }
   ],
   "source": [
    "VALID_PCT = 0.05\n",
    "TEST_PCT  = 0.05\n",
    "#TRAIN_PCT = 0.15\n",
    "train_data = []\n",
    "valid_data = []\n",
    "test_data = []\n",
    "\n",
    "random.seed(6547)\n",
    "for (en, fr) in pairs:\n",
    "    en_tensor_ = torch.tensor([en_vocab[token] for token in en_tokenizer(en)])\n",
    "    fr_tensor_ = torch.tensor([fr_vocab[token] for token in fr_tokenizer(fr)])\n",
    "    random_draw = random.random()\n",
    "    if random_draw <= VALID_PCT:\n",
    "        valid_data.append((en_tensor_, fr_tensor_))\n",
    "    elif random_draw <= VALID_PCT + TEST_PCT:\n",
    "        test_data.append((en_tensor_, fr_tensor_))\n",
    "    else:\n",
    "        #if random_draw <= TRAIN_PCT and random_draw > (VALID_PCT + TEST_PCT):\n",
    "        train_data.append((en_tensor_, fr_tensor_))\n",
    "\n",
    "\n",
    "print(f\"\"\"\n",
    "  Training pairs: {len(train_data):,}\n",
    "Validation pairs: {len(valid_data):,}\n",
    "      Test pairs: {len(test_data):,}\"\"\")\n",
    "     "
   ]
  },
  {
   "cell_type": "code",
   "execution_count": 23,
   "id": "40c7daa2",
   "metadata": {},
   "outputs": [],
   "source": [
    "PAD_IDX = en_vocab['<pad>']\n",
    "BOS_IDX = en_vocab['<bos>']\n",
    "EOS_IDX = en_vocab['<eos>']\n",
    "\n",
    "for en_id, fr_id in zip(en_vocab.lookup_indices(SPECIALS), fr_vocab.lookup_indices(SPECIALS)):\n",
    "  assert en_id == fr_id"
   ]
  },
  {
   "cell_type": "code",
   "execution_count": 24,
   "id": "6452595d",
   "metadata": {},
   "outputs": [],
   "source": [
    "def generate_batch(data_batch):\n",
    "    '''\n",
    "    Prepare English and French examples for batch-friendly modeling by appending\n",
    "    BOS/EOS tokens to each, stacking the tensors, and filling trailing spaces of\n",
    "    shorter sentences with the  token. To be used as the collate_fn in the\n",
    "    English-to-French DataLoader.\n",
    "\n",
    "    Input: \n",
    "    - data_batch, an iterable of (English, French) tuples from the datasets \n",
    "      created above\n",
    "\n",
    "    Outputs\n",
    "    - en_batch: a (max length X batch size) tensor of English token IDs\n",
    "    - fr_batch: a (max length X batch size) tensor of French token IDs \n",
    "    '''\n",
    "    en_batch, fr_batch = [], []\n",
    "    for (en_item, fr_item) in data_batch:\n",
    "        en_batch.append(torch.cat([torch.tensor([BOS_IDX]), en_item, torch.tensor([EOS_IDX])], dim=0))\n",
    "        fr_batch.append(torch.cat([torch.tensor([BOS_IDX]), fr_item, torch.tensor([EOS_IDX])], dim=0))\n",
    "\n",
    "    en_batch = pad_sequence(en_batch, padding_value=PAD_IDX, batch_first=False)\n",
    "    fr_batch = pad_sequence(fr_batch, padding_value=PAD_IDX, batch_first=False)\n",
    "\n",
    "    return en_batch, fr_batch"
   ]
  },
  {
   "cell_type": "code",
   "execution_count": 25,
   "id": "624e76dd",
   "metadata": {},
   "outputs": [],
   "source": [
    "BATCH_SIZE = 16\n",
    "\n",
    "train_iter = DataLoader(train_data, batch_size=BATCH_SIZE, shuffle=True, collate_fn=generate_batch)\n",
    "valid_iter = DataLoader(valid_data, batch_size=BATCH_SIZE, shuffle=False, collate_fn=generate_batch)\n",
    "test_iter = DataLoader(test_data, batch_size=BATCH_SIZE, shuffle=False, collate_fn=generate_batch)"
   ]
  },
  {
   "cell_type": "code",
   "execution_count": 26,
   "id": "29ec324c",
   "metadata": {},
   "outputs": [
    {
     "name": "stdout",
     "output_type": "stream",
     "text": [
      "English: <bos> i m sure about his name . <eos> <pad> <pad> <pad>\n",
      "French: <bos> je suis sur de son nom . <eos> <pad> <pad> <pad> <pad> <pad> <pad> <pad> <pad>\n",
      "\n",
      "English: <bos> tom should come right away . <eos> <pad> <pad> <pad> <pad> <pad> <pad>\n",
      "French: <bos> tom devrais venir tout de suite . <eos> <pad> <pad> <pad> <pad> <pad> <pad> <pad>\n",
      "\n",
      "English: <bos> she is powerful . <eos> <pad> <pad> <pad> <pad> <pad> <pad> <pad> <pad>\n",
      "French: <bos> elle est puissante . <eos> <pad> <pad> <pad> <pad> <pad> <pad> <pad> <pad> <pad>\n",
      "\n",
      "English: <bos> you must stop him . <eos> <pad> <pad> <pad> <pad> <pad>\n",
      "French: <bos> tu dois l arreter . <eos> <pad> <pad> <pad> <pad> <pad> <pad> <pad> <pad> <pad> <pad> <pad> <pad>\n",
      "\n",
      "English: <bos> his voice is pleasant to listen to . <eos> <pad> <pad> <pad> <pad> <pad>\n",
      "French: <bos> sa voix est agreable a ecouter . <eos> <pad> <pad> <pad> <pad> <pad> <pad> <pad> <pad> <pad> <pad>\n"
     ]
    }
   ],
   "source": [
    "for i, (en_id, fr_id) in enumerate(train_iter):\n",
    "    print('English:', ' '.join([en_vocab.lookup_token(idx) for idx in en_id[:, 0]]))\n",
    "    print('French:', ' '.join([fr_vocab.lookup_token(idx) for idx in fr_id[:, 0]]))\n",
    "    if i == 4: \n",
    "        break\n",
    "    else:\n",
    "        print()"
   ]
  },
  {
   "cell_type": "code",
   "execution_count": 27,
   "id": "cb099656",
   "metadata": {},
   "outputs": [],
   "source": [
    "class BahdanauEncoder(nn.Module):\n",
    "    def __init__(self, input_dim, embedding_dim, encoder_hidden_dim, \n",
    "                 decoder_hidden_dim, dropout_p):\n",
    "        super().__init__()\n",
    "        self.input_dim = input_dim\n",
    "        self.embedding_dim = embedding_dim\n",
    "        self.encoder_hidden_dim = encoder_hidden_dim\n",
    "        self.decoder_hidden_dim = decoder_hidden_dim\n",
    "        self.dropout_p = dropout_p\n",
    "\n",
    "        self.embedding = nn.Embedding(input_dim, embedding_dim)\n",
    "        self.gru = nn.GRU(embedding_dim, encoder_hidden_dim, bidirectional=True)\n",
    "        self.linear = nn.Linear(encoder_hidden_dim * 2, decoder_hidden_dim)\n",
    "        self.dropout = nn.Dropout(dropout_p)\n",
    "\n",
    "    def forward(self, x):\n",
    "        '''\n",
    "        Encode a source sentence. \n",
    "\n",
    "        Input:\n",
    "          - x: a (sequence length, batch size) tensor of token IDs in source language\n",
    "\n",
    "        Output:\n",
    "          - outputs: encoder outputs at each time step, given as a tensor of size\n",
    "            (sequence length, batch size, encoder hidden dim * 2)\n",
    "          - hidden: final hidden state from RNN, with directions concatenated and\n",
    "            fed through linear layer; tensor of size (batch size, decoder hidden dim)\n",
    "        '''\n",
    "\n",
    "        embedded = self.dropout(self.embedding(x))\n",
    "        outputs, hidden = self.gru(embedded)\n",
    "\n",
    "        hidden = torch.tanh(self.linear(\n",
    "            torch.cat((hidden[-2, :, :], hidden[-1, :, :]), dim=1)\n",
    "        ))\n",
    "\n",
    "        return outputs, hidden"
   ]
  },
  {
   "cell_type": "code",
   "execution_count": 28,
   "id": "e53aeec7",
   "metadata": {},
   "outputs": [],
   "source": [
    "class BahdanauAttentionQKV(nn.Module):\n",
    "    def __init__(self, hidden_size, query_size=None, key_size=None, dropout_p=0.15):\n",
    "        super().__init__()\n",
    "        self.hidden_size = hidden_size\n",
    "        self.query_size = hidden_size if query_size is None else query_size\n",
    "        \n",
    "        # assume bidirectional encoder, but can specify otherwise\n",
    "        self.key_size = 2*hidden_size if key_size is None else key_size\n",
    "        \n",
    "        self.query_layer = nn.Linear(self.query_size, hidden_size)\n",
    "        self.key_layer = nn.Linear(self.key_size, hidden_size)\n",
    "        self.energy_layer = nn.Linear(hidden_size, 1)\n",
    "        self.dropout = nn.Dropout(dropout_p)\n",
    "        \n",
    "    def forward(self, hidden, encoder_outputs, src_mask=None):\n",
    "        '''\n",
    "        Calculate attention weights using query and key features, with\n",
    "        an optional mask for input sequences.\n",
    "        \n",
    "        Inputs:\n",
    "          - hidden: most recent RNN hidden state; (B, Dec)\n",
    "          - encoder_outputs: RNN outputs at individual time steps with \n",
    "            directions concatenated; (L, B, 2*Enc)\n",
    "          - src_mask: boolean tensor of same size as source tokens (Src, B) \n",
    "            where False denotes tokens to be ignored\n",
    "            \n",
    "        Outputs:\n",
    "          - attention weights: (B, src) tensor of softmax attention \n",
    "            weights to be applied to downstream values\n",
    "        '''\n",
    "        \n",
    "        # (B, H)\n",
    "        query_out = self.query_layer(hidden) \n",
    "        \n",
    "        # (Src, B, 2*H) --> (Src, B, H)\n",
    "        key_out = self.key_layer(encoder_outputs) \n",
    "        \n",
    "        # (B, H) + (Src, B, H) = (Src, B, H)\n",
    "        energy_input = torch.tanh(query_out + key_out) \n",
    "        \n",
    "        # (Src, B, H) --> (Src, B, 1) --> (Src, B)\n",
    "        energies = self.energy_layer(energy_input).squeeze(2) \n",
    "        \n",
    "        # if a mask is provided, remove masked tokens from softmax calc\n",
    "        if src_mask is not None:\n",
    "            energies.data.masked_fill_(src_mask == 0, float(\"-inf\"))\n",
    "        \n",
    "        # softmax over the length dimension\n",
    "        weights = F.softmax(energies, dim=0)\n",
    "        \n",
    "        # return as (B, Src) as expected by later multiplication\n",
    "        return weights.transpose(0, 1)"
   ]
  },
  {
   "cell_type": "code",
   "execution_count": 29,
   "id": "b3f0cc20",
   "metadata": {},
   "outputs": [],
   "source": [
    "class BahdanauDecoder(nn.Module):\n",
    "    def __init__(self, output_dim, embedding_dim, encoder_hidden_dim, \n",
    "                 decoder_hidden_dim, attention, dropout_p):\n",
    "        super().__init__()\n",
    "\n",
    "        self.embedding_dim = embedding_dim \n",
    "        self.output_dim = output_dim \n",
    "        self.encoder_hidden_dim = encoder_hidden_dim\n",
    "        self.decoder_hidden_dim = decoder_hidden_dim\n",
    "        self.dropout_p = dropout_p \n",
    "\n",
    "        self.embedding = nn.Embedding(output_dim, embedding_dim)\n",
    "        self.attention = attention # allowing for custom attention\n",
    "        self.gru = nn.GRU((encoder_hidden_dim * 2) + embedding_dim, \n",
    "                          decoder_hidden_dim)\n",
    "        self.out = nn.Linear((encoder_hidden_dim * 2) + embedding_dim + decoder_hidden_dim,\n",
    "                             output_dim)\n",
    "        self.dropout = nn.Dropout(dropout_p)\n",
    "\n",
    "    def forward(self, input, hidden, encoder_outputs, src_mask=None):\n",
    "        '''\n",
    "        Decode an encoder's output. \n",
    "\n",
    "        B: batch size\n",
    "        S: source sentence length\n",
    "        T: target sentence length\n",
    "        O: output size (target vocab size)\n",
    "        Enc: encoder hidden dim\n",
    "        Dec: decoder hidden dim\n",
    "        Emb: embedding dim\n",
    "\n",
    "        Inputs:\n",
    "          - input: a vector of length B giving the most recent decoded token\n",
    "          - hidden: a (B, Dec) most recent RNN hidden state\n",
    "          - encoder_outputs: (S, B, 2*Enc) sequence of outputs from encoder RNN\n",
    "\n",
    "        Outputs:\n",
    "          - output: logits for next token in the sequence (B, O)\n",
    "          - hidden: a new (B, Dec) RNN hidden state\n",
    "          - attentions: (B, S) attention weights for the current token over the source sentence\n",
    "        '''\n",
    "\n",
    "        # (B) --> (1, B)\n",
    "        input = input.unsqueeze(0)\n",
    "\n",
    "        embedded = self.dropout(self.embedding(input))\n",
    "\n",
    "        attentions = self.attention(hidden, encoder_outputs, src_mask)\n",
    "\n",
    "        # (B, S) --> (B, 1, S)\n",
    "        a = attentions.unsqueeze(1)\n",
    "\n",
    "        # (S, B, 2*Enc) --> (B, S, 2*Enc)\n",
    "        encoder_outputs = encoder_outputs.transpose(0, 1)\n",
    "\n",
    "        # weighted encoder representation\n",
    "        # (B, 1, S) @ (B, S, 2*Enc) = (B, 1, 2*Enc)\n",
    "        weighted = torch.bmm(a, encoder_outputs)\n",
    "\n",
    "        # (B, 1, 2*Enc) --> (1, B, 2*Enc)\n",
    "        weighted = weighted.transpose(0, 1)\n",
    "\n",
    "        # concat (1, B, Emb) and (1, B, 2*Enc)\n",
    "        # results in (1, B, Emb + 2*Enc)\n",
    "        rnn_input = torch.cat((embedded, weighted), dim=2)\n",
    "\n",
    "        output, hidden = self.gru(rnn_input, hidden.unsqueeze(0))\n",
    "\n",
    "        assert (output == hidden).all()\n",
    "\n",
    "        # get rid of empty leading dimensions\n",
    "        embedded = embedded.squeeze(0)\n",
    "        output = output.squeeze(0)\n",
    "        weighted = weighted.squeeze(0)\n",
    "\n",
    "        # concatenate the pieces above\n",
    "        # (B, Dec), (B, 2*Enc), and (B, Emb)\n",
    "        # result is (B, Dec + 2*Enc + Emb)\n",
    "        linear_input = torch.cat((output, weighted, embedded), dim=1)\n",
    "\n",
    "        # (B, Dec + 2*Enc + Emb) --> (B, O)\n",
    "        output = self.out(linear_input)\n",
    "\n",
    "        return output, hidden.squeeze(0), attentions"
   ]
  },
  {
   "cell_type": "code",
   "execution_count": 30,
   "id": "6e384eee",
   "metadata": {},
   "outputs": [],
   "source": [
    "class BahdanauSeq2Seq(nn.Module):\n",
    "    def __init__(self, encoder, decoder, device):\n",
    "        super().__init__()\n",
    "\n",
    "        self.encoder = encoder.to(device)\n",
    "        self.decoder = decoder.to(device)\n",
    "        self.device = device\n",
    "        self.tgt_vocab_size = decoder.output_dim\n",
    "\n",
    "    def forward(self, src, tgt, src_mask=None, teacher_forcing_ratio=0.5, return_attentions=False):\n",
    "\n",
    "        tgt_length, batch_size = tgt.shape\n",
    "\n",
    "        # store decoder outputs\n",
    "        outputs = torch.zeros(tgt_length, batch_size, self.tgt_vocab_size).to(self.device)\n",
    "        # attentions = torch.zeros(tgt_length, batch_size, )\n",
    "\n",
    "        encoder_outputs, hidden = self.encoder(src)\n",
    "        hidden = hidden.squeeze(1) # B, 1, Enc --> B, Enc (if necessary)\n",
    "\n",
    "        # start with  as the decoder input\n",
    "        decoder_input = tgt[0, :]\n",
    "        attentions = []\n",
    "\n",
    "        for t in range(1, tgt_length):\n",
    "            decoder_output, hidden, attention = self.decoder(decoder_input, hidden, encoder_outputs, src_mask)\n",
    "            outputs[t] = decoder_output\n",
    "            teacher_force = random.random() < teacher_forcing_ratio\n",
    "            top_token = decoder_output.max(1)[1]\n",
    "            decoder_input = (tgt[t] if teacher_force else top_token)\n",
    "            attentions.append(attention.unsqueeze(-1))\n",
    "\n",
    "        if return_attentions:\n",
    "            return outputs, torch.cat(attentions, dim=-1)\n",
    "        else:\n",
    "            return outputs"
   ]
  },
  {
   "cell_type": "code",
   "execution_count": 31,
   "id": "6b5881ca",
   "metadata": {},
   "outputs": [],
   "source": [
    "class MultipleOptimizer(object):\n",
    "    def __init__(self, *op):\n",
    "        self.optimizers = op\n",
    "        \n",
    "    def zero_grad(self):\n",
    "        for op in self.optimizers:\n",
    "            op.zero_grad()\n",
    "    \n",
    "    def step(self):\n",
    "        for op in self.optimizers:\n",
    "            op.step()"
   ]
  },
  {
   "cell_type": "code",
   "execution_count": 32,
   "id": "735b0fa8",
   "metadata": {},
   "outputs": [],
   "source": [
    "def train(model, iterator, optimizer, loss_fn, device, clip=None):\n",
    "    model.train()\n",
    "    if model.device != device:\n",
    "        model = model.to(device)\n",
    "        \n",
    "    epoch_loss = 0\n",
    "    with tqdm(total=len(iterator), leave=False) as t:\n",
    "        for i, (src, tgt) in enumerate(iterator):\n",
    "            src_mask = (src != PAD_IDX).to(device)\n",
    "            src = src.to(device)\n",
    "            tgt = tgt.to(device)\n",
    "            \n",
    "            optimizer.zero_grad()\n",
    "            \n",
    "            output = model(src, tgt, src_mask)\n",
    "            \n",
    "            loss = loss_fn(output[1:].view(-1, output.shape[2]),\n",
    "                           tgt[1:].view(-1))\n",
    "            \n",
    "            loss.backward()\n",
    "            \n",
    "            if clip is not None:\n",
    "                nn.utils.clip_grad_norm_(model.parameters(), clip)\n",
    "            \n",
    "            optimizer.step()\n",
    "            epoch_loss += loss.item()\n",
    "            \n",
    "            avg_loss = epoch_loss / (i+1)\n",
    "            t.set_postfix(loss='{:05.3f}'.format(avg_loss),\n",
    "                          ppl='{:05.3f}'.format(np.exp(avg_loss)))\n",
    "            t.update()\n",
    "            \n",
    "    return epoch_loss / len(iterator)"
   ]
  },
  {
   "cell_type": "code",
   "execution_count": 33,
   "id": "33a17f0e",
   "metadata": {},
   "outputs": [],
   "source": [
    "def evaluate(model, iterator, loss_fn, device):\n",
    "    model.eval()\n",
    "    if model.device != device:\n",
    "        model = model.to(device)\n",
    "        \n",
    "    epoch_loss = 0\n",
    "    with torch.no_grad():\n",
    "        with tqdm(total=len(iterator), leave=False) as t:\n",
    "            for i, (src, tgt) in enumerate(iterator):\n",
    "                src_mask = (src != PAD_IDX).to(device)\n",
    "                src = src.to(device)\n",
    "                tgt = tgt.to(device)\n",
    "                \n",
    "                output = model(src, tgt, src_mask, teacher_forcing_ratio=0)\n",
    "                loss = loss_fn(output[1:].view(-1, output.shape[2]),\n",
    "                               tgt[1:].view(-1))\n",
    "                \n",
    "                epoch_loss += loss.item()\n",
    "                \n",
    "                avg_loss = epoch_loss / (i+1)\n",
    "                t.set_postfix(loss='{:05.3f}'.format(avg_loss),\n",
    "                              ppl='{:05.3f}'.format(np.exp(avg_loss)))\n",
    "                t.update()\n",
    "    \n",
    "    return epoch_loss / len(iterator)"
   ]
  },
  {
   "cell_type": "code",
   "execution_count": 34,
   "id": "49098e6e",
   "metadata": {},
   "outputs": [],
   "source": [
    "enc = BahdanauEncoder(input_dim=len(en_vocab),\n",
    "                      embedding_dim=ENCODER_EMBEDDING_DIM, \n",
    "                      encoder_hidden_dim=ENCODER_HIDDEN_SIZE, \n",
    "                      decoder_hidden_dim=DECODER_HIDDEN_SIZE, \n",
    "                      dropout_p=0.15)\n",
    "\n",
    "attn = BahdanauAttentionQKV(DECODER_HIDDEN_SIZE)\n",
    "\n",
    "dec = BahdanauDecoder(output_dim=len(fr_vocab), \n",
    "                      embedding_dim=DECODER_EMBEDDING_DIM,\n",
    "                      encoder_hidden_dim=ENCODER_HIDDEN_SIZE, \n",
    "                      decoder_hidden_dim=DECODER_HIDDEN_SIZE,\n",
    "                      attention=attn,\n",
    "                      dropout_p=0.15)"
   ]
  },
  {
   "cell_type": "code",
   "execution_count": 35,
   "id": "f0136b8a",
   "metadata": {},
   "outputs": [
    {
     "name": "stdout",
     "output_type": "stream",
     "text": [
      "12938 21189\n"
     ]
    }
   ],
   "source": [
    "print(len(en_vocab),len(fr_vocab))"
   ]
  },
  {
   "cell_type": "code",
   "execution_count": 36,
   "id": "6f7af977",
   "metadata": {},
   "outputs": [],
   "source": [
    "seq2seq = BahdanauSeq2Seq(enc, dec, device)"
   ]
  },
  {
   "cell_type": "code",
   "execution_count": 37,
   "id": "1f48ed15",
   "metadata": {},
   "outputs": [],
   "source": [
    "def count_params(model, return_int=False):\n",
    "    params = sum([torch.prod(torch.tensor(x.shape)).item() for x in model.parameters() if x.requires_grad])\n",
    "    if return_int:\n",
    "        return params\n",
    "    else:\n",
    "        print(\"There are {:,} trainable parameters in this model.\".format(params))"
   ]
  },
  {
   "cell_type": "code",
   "execution_count": 38,
   "id": "f56528e8",
   "metadata": {},
   "outputs": [
    {
     "name": "stdout",
     "output_type": "stream",
     "text": [
      "There are 32,361,414 trainable parameters in this model.\n"
     ]
    }
   ],
   "source": [
    "count_params(seq2seq)"
   ]
  },
  {
   "cell_type": "code",
   "execution_count": 39,
   "id": "4f488c4c",
   "metadata": {},
   "outputs": [],
   "source": [
    "enc_optim = torch.optim.AdamW(seq2seq.encoder.parameters(), lr=1e-4)\n",
    "dec_optim = torch.optim.AdamW(seq2seq.decoder.parameters(), lr=1e-4)\n",
    "optims = MultipleOptimizer(enc_optim, dec_optim)\n",
    "loss_fn = nn.CrossEntropyLoss(ignore_index=PAD_IDX)"
   ]
  },
  {
   "cell_type": "code",
   "execution_count": 40,
   "id": "65074d46",
   "metadata": {},
   "outputs": [
    {
     "data": {
      "application/vnd.jupyter.widget-view+json": {
       "model_id": "953fbb531f0d44ffb9f07b82d50224c1",
       "version_major": 2,
       "version_minor": 0
      },
      "text/plain": [
       "Epoch:   0%|          | 0/20 [00:00<?, ?it/s]"
      ]
     },
     "metadata": {},
     "output_type": "display_data"
    },
    {
     "data": {
      "application/vnd.jupyter.widget-view+json": {
       "model_id": "",
       "version_major": 2,
       "version_minor": 0
      },
      "text/plain": [
       "  0%|          | 0/7603 [00:00<?, ?it/s]"
      ]
     },
     "metadata": {},
     "output_type": "display_data"
    },
    {
     "data": {
      "application/vnd.jupyter.widget-view+json": {
       "model_id": "",
       "version_major": 2,
       "version_minor": 0
      },
      "text/plain": [
       "  0%|          | 0/429 [00:00<?, ?it/s]"
      ]
     },
     "metadata": {},
     "output_type": "display_data"
    },
    {
     "name": "stdout",
     "output_type": "stream",
     "text": [
      "Checkpointing at epoch 1\n"
     ]
    },
    {
     "data": {
      "application/vnd.jupyter.widget-view+json": {
       "model_id": "",
       "version_major": 2,
       "version_minor": 0
      },
      "text/plain": [
       "  0%|          | 0/7603 [00:00<?, ?it/s]"
      ]
     },
     "metadata": {},
     "output_type": "display_data"
    },
    {
     "data": {
      "application/vnd.jupyter.widget-view+json": {
       "model_id": "",
       "version_major": 2,
       "version_minor": 0
      },
      "text/plain": [
       "  0%|          | 0/429 [00:00<?, ?it/s]"
      ]
     },
     "metadata": {},
     "output_type": "display_data"
    },
    {
     "name": "stdout",
     "output_type": "stream",
     "text": [
      "Checkpointing at epoch 2\n"
     ]
    },
    {
     "data": {
      "application/vnd.jupyter.widget-view+json": {
       "model_id": "",
       "version_major": 2,
       "version_minor": 0
      },
      "text/plain": [
       "  0%|          | 0/7603 [00:00<?, ?it/s]"
      ]
     },
     "metadata": {},
     "output_type": "display_data"
    },
    {
     "data": {
      "application/vnd.jupyter.widget-view+json": {
       "model_id": "",
       "version_major": 2,
       "version_minor": 0
      },
      "text/plain": [
       "  0%|          | 0/429 [00:00<?, ?it/s]"
      ]
     },
     "metadata": {},
     "output_type": "display_data"
    },
    {
     "name": "stdout",
     "output_type": "stream",
     "text": [
      "Checkpointing at epoch 3\n"
     ]
    },
    {
     "data": {
      "application/vnd.jupyter.widget-view+json": {
       "model_id": "",
       "version_major": 2,
       "version_minor": 0
      },
      "text/plain": [
       "  0%|          | 0/7603 [00:00<?, ?it/s]"
      ]
     },
     "metadata": {},
     "output_type": "display_data"
    },
    {
     "data": {
      "application/vnd.jupyter.widget-view+json": {
       "model_id": "",
       "version_major": 2,
       "version_minor": 0
      },
      "text/plain": [
       "  0%|          | 0/429 [00:00<?, ?it/s]"
      ]
     },
     "metadata": {},
     "output_type": "display_data"
    },
    {
     "name": "stdout",
     "output_type": "stream",
     "text": [
      "Checkpointing at epoch 4\n"
     ]
    },
    {
     "data": {
      "application/vnd.jupyter.widget-view+json": {
       "model_id": "",
       "version_major": 2,
       "version_minor": 0
      },
      "text/plain": [
       "  0%|          | 0/7603 [00:00<?, ?it/s]"
      ]
     },
     "metadata": {},
     "output_type": "display_data"
    },
    {
     "data": {
      "application/vnd.jupyter.widget-view+json": {
       "model_id": "",
       "version_major": 2,
       "version_minor": 0
      },
      "text/plain": [
       "  0%|          | 0/429 [00:00<?, ?it/s]"
      ]
     },
     "metadata": {},
     "output_type": "display_data"
    },
    {
     "name": "stdout",
     "output_type": "stream",
     "text": [
      "Checkpointing at epoch 5\n"
     ]
    },
    {
     "data": {
      "application/vnd.jupyter.widget-view+json": {
       "model_id": "",
       "version_major": 2,
       "version_minor": 0
      },
      "text/plain": [
       "  0%|          | 0/7603 [00:00<?, ?it/s]"
      ]
     },
     "metadata": {},
     "output_type": "display_data"
    },
    {
     "data": {
      "application/vnd.jupyter.widget-view+json": {
       "model_id": "",
       "version_major": 2,
       "version_minor": 0
      },
      "text/plain": [
       "  0%|          | 0/429 [00:00<?, ?it/s]"
      ]
     },
     "metadata": {},
     "output_type": "display_data"
    },
    {
     "name": "stdout",
     "output_type": "stream",
     "text": [
      "Checkpointing at epoch 6\n"
     ]
    },
    {
     "data": {
      "application/vnd.jupyter.widget-view+json": {
       "model_id": "",
       "version_major": 2,
       "version_minor": 0
      },
      "text/plain": [
       "  0%|          | 0/7603 [00:00<?, ?it/s]"
      ]
     },
     "metadata": {},
     "output_type": "display_data"
    },
    {
     "data": {
      "application/vnd.jupyter.widget-view+json": {
       "model_id": "",
       "version_major": 2,
       "version_minor": 0
      },
      "text/plain": [
       "  0%|          | 0/429 [00:00<?, ?it/s]"
      ]
     },
     "metadata": {},
     "output_type": "display_data"
    },
    {
     "name": "stdout",
     "output_type": "stream",
     "text": [
      "Checkpointing at epoch 7\n"
     ]
    },
    {
     "data": {
      "application/vnd.jupyter.widget-view+json": {
       "model_id": "",
       "version_major": 2,
       "version_minor": 0
      },
      "text/plain": [
       "  0%|          | 0/7603 [00:00<?, ?it/s]"
      ]
     },
     "metadata": {},
     "output_type": "display_data"
    },
    {
     "data": {
      "application/vnd.jupyter.widget-view+json": {
       "model_id": "",
       "version_major": 2,
       "version_minor": 0
      },
      "text/plain": [
       "  0%|          | 0/429 [00:00<?, ?it/s]"
      ]
     },
     "metadata": {},
     "output_type": "display_data"
    },
    {
     "name": "stdout",
     "output_type": "stream",
     "text": [
      "Checkpointing at epoch 8\n"
     ]
    },
    {
     "data": {
      "application/vnd.jupyter.widget-view+json": {
       "model_id": "",
       "version_major": 2,
       "version_minor": 0
      },
      "text/plain": [
       "  0%|          | 0/7603 [00:00<?, ?it/s]"
      ]
     },
     "metadata": {},
     "output_type": "display_data"
    },
    {
     "data": {
      "application/vnd.jupyter.widget-view+json": {
       "model_id": "",
       "version_major": 2,
       "version_minor": 0
      },
      "text/plain": [
       "  0%|          | 0/429 [00:00<?, ?it/s]"
      ]
     },
     "metadata": {},
     "output_type": "display_data"
    },
    {
     "name": "stdout",
     "output_type": "stream",
     "text": [
      "Checkpointing at epoch 9\n"
     ]
    },
    {
     "data": {
      "application/vnd.jupyter.widget-view+json": {
       "model_id": "",
       "version_major": 2,
       "version_minor": 0
      },
      "text/plain": [
       "  0%|          | 0/7603 [00:00<?, ?it/s]"
      ]
     },
     "metadata": {},
     "output_type": "display_data"
    },
    {
     "data": {
      "application/vnd.jupyter.widget-view+json": {
       "model_id": "",
       "version_major": 2,
       "version_minor": 0
      },
      "text/plain": [
       "  0%|          | 0/429 [00:00<?, ?it/s]"
      ]
     },
     "metadata": {},
     "output_type": "display_data"
    },
    {
     "name": "stdout",
     "output_type": "stream",
     "text": [
      "Checkpointing at epoch 10\n"
     ]
    },
    {
     "data": {
      "application/vnd.jupyter.widget-view+json": {
       "model_id": "",
       "version_major": 2,
       "version_minor": 0
      },
      "text/plain": [
       "  0%|          | 0/7603 [00:00<?, ?it/s]"
      ]
     },
     "metadata": {},
     "output_type": "display_data"
    },
    {
     "data": {
      "application/vnd.jupyter.widget-view+json": {
       "model_id": "",
       "version_major": 2,
       "version_minor": 0
      },
      "text/plain": [
       "  0%|          | 0/429 [00:00<?, ?it/s]"
      ]
     },
     "metadata": {},
     "output_type": "display_data"
    },
    {
     "name": "stdout",
     "output_type": "stream",
     "text": [
      "Checkpointing at epoch 11\n"
     ]
    },
    {
     "data": {
      "application/vnd.jupyter.widget-view+json": {
       "model_id": "",
       "version_major": 2,
       "version_minor": 0
      },
      "text/plain": [
       "  0%|          | 0/7603 [00:00<?, ?it/s]"
      ]
     },
     "metadata": {},
     "output_type": "display_data"
    },
    {
     "data": {
      "application/vnd.jupyter.widget-view+json": {
       "model_id": "",
       "version_major": 2,
       "version_minor": 0
      },
      "text/plain": [
       "  0%|          | 0/429 [00:00<?, ?it/s]"
      ]
     },
     "metadata": {},
     "output_type": "display_data"
    },
    {
     "name": "stdout",
     "output_type": "stream",
     "text": [
      "Checkpointing at epoch 12\n"
     ]
    },
    {
     "data": {
      "application/vnd.jupyter.widget-view+json": {
       "model_id": "",
       "version_major": 2,
       "version_minor": 0
      },
      "text/plain": [
       "  0%|          | 0/7603 [00:00<?, ?it/s]"
      ]
     },
     "metadata": {},
     "output_type": "display_data"
    },
    {
     "data": {
      "application/vnd.jupyter.widget-view+json": {
       "model_id": "",
       "version_major": 2,
       "version_minor": 0
      },
      "text/plain": [
       "  0%|          | 0/429 [00:00<?, ?it/s]"
      ]
     },
     "metadata": {},
     "output_type": "display_data"
    },
    {
     "name": "stdout",
     "output_type": "stream",
     "text": [
      "Checkpointing at epoch 13\n"
     ]
    },
    {
     "data": {
      "application/vnd.jupyter.widget-view+json": {
       "model_id": "",
       "version_major": 2,
       "version_minor": 0
      },
      "text/plain": [
       "  0%|          | 0/7603 [00:00<?, ?it/s]"
      ]
     },
     "metadata": {},
     "output_type": "display_data"
    },
    {
     "data": {
      "application/vnd.jupyter.widget-view+json": {
       "model_id": "",
       "version_major": 2,
       "version_minor": 0
      },
      "text/plain": [
       "  0%|          | 0/429 [00:00<?, ?it/s]"
      ]
     },
     "metadata": {},
     "output_type": "display_data"
    },
    {
     "name": "stdout",
     "output_type": "stream",
     "text": [
      "Checkpointing at epoch 14\n"
     ]
    },
    {
     "data": {
      "application/vnd.jupyter.widget-view+json": {
       "model_id": "",
       "version_major": 2,
       "version_minor": 0
      },
      "text/plain": [
       "  0%|          | 0/7603 [00:00<?, ?it/s]"
      ]
     },
     "metadata": {},
     "output_type": "display_data"
    },
    {
     "data": {
      "application/vnd.jupyter.widget-view+json": {
       "model_id": "",
       "version_major": 2,
       "version_minor": 0
      },
      "text/plain": [
       "  0%|          | 0/429 [00:00<?, ?it/s]"
      ]
     },
     "metadata": {},
     "output_type": "display_data"
    },
    {
     "name": "stdout",
     "output_type": "stream",
     "text": [
      "Checkpointing at epoch 15\n"
     ]
    },
    {
     "data": {
      "application/vnd.jupyter.widget-view+json": {
       "model_id": "",
       "version_major": 2,
       "version_minor": 0
      },
      "text/plain": [
       "  0%|          | 0/7603 [00:00<?, ?it/s]"
      ]
     },
     "metadata": {},
     "output_type": "display_data"
    },
    {
     "data": {
      "application/vnd.jupyter.widget-view+json": {
       "model_id": "",
       "version_major": 2,
       "version_minor": 0
      },
      "text/plain": [
       "  0%|          | 0/429 [00:00<?, ?it/s]"
      ]
     },
     "metadata": {},
     "output_type": "display_data"
    },
    {
     "name": "stdout",
     "output_type": "stream",
     "text": [
      "Checkpointing at epoch 16\n"
     ]
    },
    {
     "data": {
      "application/vnd.jupyter.widget-view+json": {
       "model_id": "",
       "version_major": 2,
       "version_minor": 0
      },
      "text/plain": [
       "  0%|          | 0/7603 [00:00<?, ?it/s]"
      ]
     },
     "metadata": {},
     "output_type": "display_data"
    },
    {
     "data": {
      "application/vnd.jupyter.widget-view+json": {
       "model_id": "",
       "version_major": 2,
       "version_minor": 0
      },
      "text/plain": [
       "  0%|          | 0/429 [00:00<?, ?it/s]"
      ]
     },
     "metadata": {},
     "output_type": "display_data"
    },
    {
     "data": {
      "application/vnd.jupyter.widget-view+json": {
       "model_id": "",
       "version_major": 2,
       "version_minor": 0
      },
      "text/plain": [
       "  0%|          | 0/7603 [00:00<?, ?it/s]"
      ]
     },
     "metadata": {},
     "output_type": "display_data"
    },
    {
     "data": {
      "application/vnd.jupyter.widget-view+json": {
       "model_id": "",
       "version_major": 2,
       "version_minor": 0
      },
      "text/plain": [
       "  0%|          | 0/429 [00:00<?, ?it/s]"
      ]
     },
     "metadata": {},
     "output_type": "display_data"
    },
    {
     "name": "stdout",
     "output_type": "stream",
     "text": [
      "Early stopping triggered in epoch 18\n"
     ]
    }
   ],
   "source": [
    "N_EPOCHS = 20\n",
    "CLIP = 10 # clipping value, or None to prevent gradient clipping\n",
    "EARLY_STOPPING_EPOCHS = 2\n",
    "\n",
    "if not os.path.exists(SAVE_DIR):\n",
    "    print(f\"Creating directory {SAVE_DIR}\")\n",
    "    os.mkdir(SAVE_DIR)\n",
    "    \n",
    "model_path = os.path.join(SAVE_DIR, 'bahdanau_en_fr.pt')\n",
    "bahdanau_metrics = {}\n",
    "best_valid_loss = float(\"inf\")\n",
    "early_stopping_count = 0\n",
    "for epoch in tqdm(range(N_EPOCHS), leave=False, desc=\"Epoch\"):\n",
    "    train_loss = train(seq2seq, train_iter, optims, loss_fn, device, clip=CLIP)\n",
    "    valid_loss = evaluate(seq2seq, valid_iter, loss_fn, device)\n",
    "    \n",
    "    if valid_loss < best_valid_loss:\n",
    "        tqdm.write(f\"Checkpointing at epoch {epoch + 1}\")\n",
    "        best_valid_loss = valid_loss\n",
    "        torch.save(seq2seq.state_dict(), model_path)\n",
    "        early_stopping_count = 0\n",
    "    else:\n",
    "        early_stopping_count += 1\n",
    "    \n",
    "    bahdanau_metrics[epoch+1] = dict(\n",
    "        train_loss = train_loss,\n",
    "        train_ppl = np.exp(train_loss),\n",
    "        valid_loss = valid_loss,\n",
    "        valid_ppl = np.exp(valid_loss)\n",
    "    )\n",
    "    \n",
    "    if early_stopping_count == EARLY_STOPPING_EPOCHS:\n",
    "        tqdm.write(f\"Early stopping triggered in epoch {epoch + 1}\")\n",
    "        break"
   ]
  },
  {
   "cell_type": "code",
   "execution_count": 41,
   "id": "227e3ff5",
   "metadata": {},
   "outputs": [
    {
     "data": {
      "text/plain": [
       "<All keys matched successfully>"
      ]
     },
     "execution_count": 41,
     "metadata": {},
     "output_type": "execute_result"
    }
   ],
   "source": [
    "seq2seq.load_state_dict(torch.load(model_path, map_location=device))"
   ]
  },
  {
   "cell_type": "code",
   "execution_count": 42,
   "id": "74854346",
   "metadata": {},
   "outputs": [
    {
     "data": {
      "image/png": "[encoded data removed]",
      "text/plain": [
       "<Figure size 1000x600 with 1 Axes>"
      ]
     },
     "metadata": {},
     "output_type": "display_data"
    },
    {
     "data": {
      "image/png": "[encoded data removed]",
      "text/plain": [
       "<Figure size 1000x600 with 1 Axes>"
      ]
     },
     "metadata": {},
     "output_type": "display_data"
    }
   ],
   "source": [
    "bahdanau_metrics_df = pd.DataFrame(bahdanau_metrics).T\n",
    "\n",
    "plt.figure(figsize=(10,6))\n",
    "plt.plot(bahdanau_metrics_df['train_loss'], label=\"Training\", color='gray', linestyle='solid', lw=2.5)\n",
    "plt.plot(bahdanau_metrics_df['valid_loss'], label=\"Validation\", color='gray', linestyle='dashed', lw=2.5)\n",
    "plt.legend()\n",
    "plt.title(\"Bahdanau Attention: Loss\")\n",
    "plt.xlabel(\"Epoch\")\n",
    "plt.ylabel(\"Loss\")\n",
    "plt.show()\n",
    "\n",
    "plt.figure(figsize=(10,6))\n",
    "plt.plot(bahdanau_metrics_df['train_ppl'], label=\"Training\", color='gray', linestyle='solid', lw=2.5)\n",
    "plt.plot(bahdanau_metrics_df['valid_ppl'], label=\"Validation\", color='gray', linestyle='dashed', lw=2.5)\n",
    "plt.legend()\n",
    "plt.title(\"Bahdanau Attention: Perplexity\")\n",
    "plt.xlabel(\"Epoch\")\n",
    "plt.ylabel(\"Perplexity\")\n",
    "plt.show()"
   ]
  },
  {
   "cell_type": "code",
   "execution_count": 43,
   "id": "0e329fb1",
   "metadata": {},
   "outputs": [
    {
     "data": {
      "text/plain": [
       "2.2639507540178188"
      ]
     },
     "execution_count": 43,
     "metadata": {},
     "output_type": "execute_result"
    }
   ],
   "source": [
    "best_valid_loss"
   ]
  },
  {
   "cell_type": "code",
   "execution_count": 44,
   "id": "7c471c67",
   "metadata": {},
   "outputs": [],
   "source": [
    "def predict_text(model, text, device=device, src_vocab=en_vocab, src_tokenizer=en_tokenizer, tgt_vocab=fr_vocab):\n",
    "    model.eval()\n",
    "    with torch.no_grad():\n",
    "        input_ids = [src_vocab[token] for token in src_tokenizer(text)]\n",
    "        input_ids = [BOS_IDX] + input_ids + [EOS_IDX]\n",
    "        input_tensor = torch.tensor(input_ids).to(device).unsqueeze(1) # add fake batch dim\n",
    "        max_len = 2*len(input_ids)\n",
    "        encoder_outputs, hidden = model.encoder(input_tensor)\n",
    "        \n",
    "        output = torch.tensor([BOS_IDX]).to(device)\n",
    "        \n",
    "        decoder_outputs = torch.zeros(max_len, 1, len(tgt_vocab)).to(device)\n",
    "        \n",
    "        decoded_words = []\n",
    "        decoder_attentions = torch.zeros(max_len, len(input_ids))\n",
    "        for t in range(0, max_len):\n",
    "            output, hidden, attn = model.decoder(output, hidden, encoder_outputs)\n",
    "            decoder_attentions[t] = attn.data\n",
    "            decoder_outputs[t] = output\n",
    "            output = output.argmax(1)\n",
    "            \n",
    "            if output.item() == EOS_IDX:\n",
    "                decoded_words.append('')\n",
    "                break\n",
    "            else:\n",
    "                decoded_words.append(tgt_vocab.lookup_token(output.item()))\n",
    "        \n",
    "        output_sentence = ' '.join(decoded_words)\n",
    "        return output_sentence, decoder_attentions[:(t+1)]\n",
    "\n",
    "def show_attention(input_sentence, output_sentence, attentions, figsize=(8,6)):\n",
    "    fig = plt.figure(figsize=figsize)\n",
    "    ax = fig.add_subplot(111)\n",
    "    cax = ax.matshow(attentions.numpy(), cmap='gray')\n",
    "    fig.colorbar(cax)\n",
    "    \n",
    "    src = ['', ''] + input_sentence.split(' ') + ['']\n",
    "    tgt = [''] + output_sentence.split(' ')\n",
    "    ax.set_xticklabels(src, rotation=90)\n",
    "    ax.set_yticklabels(tgt)\n",
    "    \n",
    "    ax.xaxis.set_major_locator(ticker.MultipleLocator(1))\n",
    "    ax.yaxis.set_major_locator(ticker.MultipleLocator(1))\n",
    "    \n",
    "    plt.show()\n",
    "\n",
    "def predict_and_show_attention(sentence, model, device):\n",
    "    result, attentions = predict_text(model, sentence, device)\n",
    "    \n",
    "    print(\"Input  >>>\", sentence)\n",
    "    print(\"Output >>>\", result)\n",
    "    \n",
    "    show_attention(sentence, result, attentions)"
   ]
  },
  {
   "cell_type": "code",
   "execution_count": 45,
   "id": "09f3ee31",
   "metadata": {},
   "outputs": [
    {
     "name": "stdout",
     "output_type": "stream",
     "text": [
      "Input  >>> i am going to the store\n",
      "Output >>> je vais a le magasin . \n"
     ]
    },
    {
     "name": "stderr",
     "output_type": "stream",
     "text": [
      "/tmp/ipykernel_4376/795855007.py:39: UserWarning: FixedFormatter should only be used together with FixedLocator\n",
      "  ax.set_xticklabels(src, rotation=90)\n",
      "/tmp/ipykernel_4376/795855007.py:40: UserWarning: FixedFormatter should only be used together with FixedLocator\n",
      "  ax.set_yticklabels(tgt)\n"
     ]
    },
    {
     "data": {
      "image/png": "[encoded data removed]",
      "text/plain": [
       "<Figure size 800x600 with 2 Axes>"
      ]
     },
     "metadata": {},
     "output_type": "display_data"
    }
   ],
   "source": [
    "predict_and_show_attention(\"i am going to the store\", seq2seq, device)"
   ]
  },
  {
   "cell_type": "code",
   "execution_count": 46,
   "id": "8d7b5760",
   "metadata": {},
   "outputs": [
    {
     "name": "stdout",
     "output_type": "stream",
     "text": [
      "Input  >>> how long will you be here ?\n",
      "Output >>> combien de temps serez vous ici ? \n"
     ]
    },
    {
     "name": "stderr",
     "output_type": "stream",
     "text": [
      "/tmp/ipykernel_4376/795855007.py:39: UserWarning: FixedFormatter should only be used together with FixedLocator\n",
      "  ax.set_xticklabels(src, rotation=90)\n",
      "/tmp/ipykernel_4376/795855007.py:40: UserWarning: FixedFormatter should only be used together with FixedLocator\n",
      "  ax.set_yticklabels(tgt)\n"
     ]
    },
    {
     "data": {
      "image/png": "[encoded data removed]",
      "text/plain": [
       "<Figure size 800x600 with 2 Axes>"
      ]
     },
     "metadata": {},
     "output_type": "display_data"
    }
   ],
   "source": [
    "predict_and_show_attention(\"how long will you be here ?\", seq2seq, device)"
   ]
  },
  {
   "cell_type": "code",
   "execution_count": 47,
   "id": "0a30080c",
   "metadata": {},
   "outputs": [
    {
     "name": "stdout",
     "output_type": "stream",
     "text": [
      "Input  >>> can we please go to the library ?\n",
      "Output >>> pouvons nous aller a la bibliotheque ? \n"
     ]
    },
    {
     "name": "stderr",
     "output_type": "stream",
     "text": [
      "/tmp/ipykernel_4376/795855007.py:39: UserWarning: FixedFormatter should only be used together with FixedLocator\n",
      "  ax.set_xticklabels(src, rotation=90)\n",
      "/tmp/ipykernel_4376/795855007.py:40: UserWarning: FixedFormatter should only be used together with FixedLocator\n",
      "  ax.set_yticklabels(tgt)\n"
     ]
    },
    {
     "data": {
      "image/png": "[encoded data removed]",
      "text/plain": [
       "<Figure size 800x600 with 2 Axes>"
      ]
     },
     "metadata": {},
     "output_type": "display_data"
    }
   ],
   "source": [
    "predict_and_show_attention(\"can we please go to the library ?\", seq2seq, device)"
   ]
  },
  {
   "cell_type": "code",
   "execution_count": 48,
   "id": "cf5868c4",
   "metadata": {},
   "outputs": [
    {
     "name": "stdout",
     "output_type": "stream",
     "text": [
      "Input  >>> her family moved away last year .\n",
      "Output >>> sa famille s est passee l annee derniere . \n"
     ]
    },
    {
     "name": "stderr",
     "output_type": "stream",
     "text": [
      "/tmp/ipykernel_4376/795855007.py:39: UserWarning: FixedFormatter should only be used together with FixedLocator\n",
      "  ax.set_xticklabels(src, rotation=90)\n",
      "/tmp/ipykernel_4376/795855007.py:40: UserWarning: FixedFormatter should only be used together with FixedLocator\n",
      "  ax.set_yticklabels(tgt)\n"
     ]
    },
    {
     "data": {
      "image/png": "[encoded data removed]",
      "text/plain": [
       "<Figure size 800x600 with 2 Axes>"
      ]
     },
     "metadata": {},
     "output_type": "display_data"
    }
   ],
   "source": [
    "if not FILTER_TO_BASIC_PREFIXES:\n",
    "  predict_and_show_attention(\"her family moved away last year .\", seq2seq, device)"
   ]
  },
  {
   "cell_type": "code",
   "execution_count": 49,
   "id": "a1608bed",
   "metadata": {},
   "outputs": [
    {
     "name": "stdout",
     "output_type": "stream",
     "text": [
      "Input  >>> two thousand people fit into this hall .\n",
      "Output >>> deux mille personnes ont dans dans cette hall . \n"
     ]
    },
    {
     "name": "stderr",
     "output_type": "stream",
     "text": [
      "/tmp/ipykernel_4376/795855007.py:39: UserWarning: FixedFormatter should only be used together with FixedLocator\n",
      "  ax.set_xticklabels(src, rotation=90)\n",
      "/tmp/ipykernel_4376/795855007.py:40: UserWarning: FixedFormatter should only be used together with FixedLocator\n",
      "  ax.set_yticklabels(tgt)\n"
     ]
    },
    {
     "data": {
      "image/png": "[encoded data removed]",
      "text/plain": [
       "<Figure size 800x600 with 2 Axes>"
      ]
     },
     "metadata": {},
     "output_type": "display_data"
    }
   ],
   "source": [
    "if not FILTER_TO_BASIC_PREFIXES:\n",
    "  predict_and_show_attention(\"two thousand people fit into this hall .\", seq2seq, device)"
   ]
  },
  {
   "cell_type": "code",
   "execution_count": 50,
   "id": "179302b1",
   "metadata": {},
   "outputs": [
    {
     "name": "stdout",
     "output_type": "stream",
     "text": [
      "Input  >>> the poor young man finally became a great artist .\n",
      "Output >>> le pauvre jeune homme devint un grand artiste . \n"
     ]
    },
    {
     "name": "stderr",
     "output_type": "stream",
     "text": [
      "/tmp/ipykernel_4376/795855007.py:39: UserWarning: FixedFormatter should only be used together with FixedLocator\n",
      "  ax.set_xticklabels(src, rotation=90)\n",
      "/tmp/ipykernel_4376/795855007.py:40: UserWarning: FixedFormatter should only be used together with FixedLocator\n",
      "  ax.set_yticklabels(tgt)\n"
     ]
    },
    {
     "data": {
      "image/png": "[encoded data removed]",
      "text/plain": [
       "<Figure size 800x600 with 2 Axes>"
      ]
     },
     "metadata": {},
     "output_type": "display_data"
    }
   ],
   "source": [
    "if not FILTER_TO_BASIC_PREFIXES:\n",
    "  predict_and_show_attention(\"the poor young man finally became a great artist .\", seq2seq, device)"
   ]
  },
  {
   "cell_type": "code",
   "execution_count": 51,
   "id": "fcf3b3b2",
   "metadata": {},
   "outputs": [],
   "source": [
    "class PositionalEncoding(nn.Module):\n",
    "    def __init__(self, d_model, dropout_p=0.1, max_len=100):\n",
    "        super().__init__()\n",
    "        \n",
    "        self.dropout = nn.Dropout(dropout_p)\n",
    "        pe = torch.zeros(max_len, d_model)\n",
    "        position = torch.arange(0, max_len, dtype=torch.float).unsqueeze(1)\n",
    "        div_term = torch.exp(torch.arange(0, d_model, 2).float() * (-np.log(10000.) / d_model))\n",
    "        pe[:, 0::2] = torch.sin(position * div_term)\n",
    "        pe[:, 1::2] = torch.cos(position * div_term)\n",
    "        pe = pe.unsqueeze(0).transpose(0, 1)\n",
    "        self.register_buffer('pe', pe)\n",
    "        \n",
    "    def forward(self, x):\n",
    "        x = x + self.pe[:x.size(0), :]\n",
    "        return self.dropout(x)\n",
    "\n",
    "\n",
    "class TransformerModel(nn.Module):\n",
    "    def __init__(self, input_dim, output_dim, d_model, num_attention_heads, \n",
    "                 num_encoder_layers, num_decoder_layers, dim_feedforward, \n",
    "                 max_seq_length, pos_dropout, transformer_dropout):\n",
    "        super().__init__()\n",
    "        self.d_model = d_model\n",
    "        self.embed_src = nn.Embedding(input_dim, d_model)\n",
    "        self.embed_tgt = nn.Embedding(output_dim, d_model)\n",
    "        self.pos_enc = PositionalEncoding(d_model, pos_dropout, max_seq_length)\n",
    "        \n",
    "        self.transformer = nn.Transformer(d_model, num_attention_heads, num_encoder_layers, \n",
    "                                          num_decoder_layers, dim_feedforward, transformer_dropout)\n",
    "        self.output = nn.Linear(d_model, output_dim)\n",
    "        \n",
    "    def forward(self,\n",
    "                src=None, \n",
    "                tgt=None,\n",
    "                src_mask=None,\n",
    "                tgt_mask=None, \n",
    "                src_key_padding_mask=None, \n",
    "                tgt_key_padding_mask=None,\n",
    "                memory_key_padding_mask=None,\n",
    "                src_embeds=None, \n",
    "                tgt_embeds=None):\n",
    "        \n",
    "        if (src_embeds is None) and (src is not None):\n",
    "            if (tgt_embeds is None) and (tgt is not None):\n",
    "                src_embeds, tgt_embeds = self._embed_tokens(src, tgt)\n",
    "        elif (src_embeds is not None) and (src is not None):\n",
    "            raise ValueError(\"Must specify exactly one of src and src_embeds\")\n",
    "        elif (src_embeds is None) and (src is None):\n",
    "            raise ValueError(\"Must specify exactly one of src and src_embeds\")\n",
    "        elif (tgt_embeds is not None) and (tgt is not None):\n",
    "            raise ValueError(\"Must specify exactly one of tgt and tgt_embeds\")\n",
    "        elif (tgt_embeds is None) and (tgt is None):\n",
    "            raise ValueError(\"Must specify exactly one of tgt and tgt_embeds\")\n",
    "        \n",
    "        output = self.transformer(src_embeds, \n",
    "                                  tgt_embeds, \n",
    "                                  tgt_mask=tgt_mask, \n",
    "                                  src_key_padding_mask=src_key_padding_mask,\n",
    "                                  tgt_key_padding_mask=tgt_key_padding_mask,\n",
    "                                  memory_key_padding_mask=memory_key_padding_mask)\n",
    "        \n",
    "        return self.output(output)\n",
    "    \n",
    "    def _embed_tokens(self, src, tgt):\n",
    "        src_embeds = self.embed_src(src) * np.sqrt(self.d_model)\n",
    "        tgt_embeds = self.embed_tgt(tgt) * np.sqrt(self.d_model)\n",
    "        \n",
    "        src_embeds = self.pos_enc(src_embeds)\n",
    "        tgt_embeds = self.pos_enc(tgt_embeds)\n",
    "        return src_embeds, tgt_embeds"
   ]
  },
  {
   "cell_type": "code",
   "execution_count": 52,
   "id": "8113399e",
   "metadata": {},
   "outputs": [],
   "source": [
    "def train_transformer(model, iterator, optimizer, loss_fn, device, clip=None):\n",
    "    model.train()\n",
    "        \n",
    "    epoch_loss = 0\n",
    "    with tqdm(total=len(iterator), leave=False) as t:\n",
    "        for i, (src, tgt) in enumerate(iterator):\n",
    "            src = src.to(device)\n",
    "            tgt = tgt.to(device)\n",
    "            \n",
    "            # Create tgt_inp and tgt_out (which is tgt_inp but shifted by 1)\n",
    "            tgt_inp, tgt_out = tgt[:-1, :], tgt[1:, :]\n",
    "\n",
    "            tgt_mask = model.transformer.generate_square_subsequent_mask(tgt_inp.size(0)).to(device)\n",
    "            src_key_padding_mask = (src == PAD_IDX).transpose(0, 1)\n",
    "            tgt_key_padding_mask = (tgt_inp == PAD_IDX).transpose(0, 1)\n",
    "            memory_key_padding_mask = src_key_padding_mask.clone()\n",
    "            \n",
    "            optimizer.zero_grad()\n",
    "            \n",
    "            output = model(src=src, tgt=tgt_inp, \n",
    "                           tgt_mask=tgt_mask,\n",
    "                           src_key_padding_mask = src_key_padding_mask,\n",
    "                           tgt_key_padding_mask = tgt_key_padding_mask,\n",
    "                           memory_key_padding_mask = memory_key_padding_mask)\n",
    "            \n",
    "            loss = loss_fn(output.view(-1, output.shape[2]),\n",
    "                           tgt_out.view(-1))\n",
    "            \n",
    "            loss.backward()\n",
    "            \n",
    "            if clip is not None:\n",
    "                nn.utils.clip_grad_norm_(model.parameters(), clip)\n",
    "            \n",
    "            optimizer.step()\n",
    "            epoch_loss += loss.item()\n",
    "            \n",
    "            avg_loss = epoch_loss / (i+1)\n",
    "            t.set_postfix(loss='{:05.3f}'.format(avg_loss),\n",
    "                          ppl='{:05.3f}'.format(np.exp(avg_loss)))\n",
    "            t.update()\n",
    "            \n",
    "    return epoch_loss / len(iterator)\n",
    "    \n",
    "def evaluate_transformer(model, iterator, loss_fn, device):\n",
    "    model.eval()\n",
    "        \n",
    "    epoch_loss = 0\n",
    "    with torch.no_grad():\n",
    "        with tqdm(total=len(iterator), leave=False) as t:\n",
    "            for i, (src, tgt) in enumerate(iterator):\n",
    "                src = src.to(device)\n",
    "                tgt = tgt.to(device)\n",
    "                \n",
    "                # Create tgt_inp and tgt_out (which is tgt_inp but shifted by 1)\n",
    "                tgt_inp, tgt_out = tgt[:-1, :], tgt[1:, :]\n",
    "                \n",
    "                tgt_mask = model.transformer.generate_square_subsequent_mask(tgt_inp.size(0)).to(device)\n",
    "                src_key_padding_mask = (src == PAD_IDX).transpose(0, 1)\n",
    "                tgt_key_padding_mask = (tgt_inp == PAD_IDX).transpose(0, 1)\n",
    "                memory_key_padding_mask = src_key_padding_mask.clone()\n",
    "\n",
    "                output = model(src=src, tgt=tgt_inp, \n",
    "                               tgt_mask=tgt_mask,\n",
    "                               src_key_padding_mask = src_key_padding_mask,\n",
    "                               tgt_key_padding_mask = tgt_key_padding_mask,\n",
    "                               memory_key_padding_mask = memory_key_padding_mask)\n",
    "                \n",
    "                loss = loss_fn(output.view(-1, output.shape[2]),\n",
    "                               tgt_out.view(-1))\n",
    "                \n",
    "                epoch_loss += loss.item()\n",
    "                \n",
    "                avg_loss = epoch_loss / (i+1)\n",
    "                t.set_postfix(loss='{:05.3f}'.format(avg_loss),\n",
    "                              ppl='{:05.3f}'.format(np.exp(avg_loss)))\n",
    "                t.update()\n",
    "    \n",
    "    return epoch_loss / len(iterator)"
   ]
  },
  {
   "cell_type": "code",
   "execution_count": 53,
   "id": "2bd999de",
   "metadata": {},
   "outputs": [
    {
     "name": "stderr",
     "output_type": "stream",
     "text": [
      "/home/turunenj/anaconda3/lib/python3.11/site-packages/torch/nn/modules/transformer.py:282: UserWarning: enable_nested_tensor is True, but self.use_nested_tensor is False because encoder_layer.self_attn.batch_first was not True(use batch_first for better inference performance)\n",
      "  warnings.warn(f\"enable_nested_tensor is True, but self.use_nested_tensor is False because {why_not_sparsity_fast_path}\")\n"
     ]
    }
   ],
   "source": [
    "transformer = TransformerModel(input_dim=len(en_vocab), \n",
    "                             output_dim=len(fr_vocab), \n",
    "                             d_model=256, \n",
    "                             num_attention_heads=8,\n",
    "                             num_encoder_layers=6, \n",
    "                             num_decoder_layers=6, \n",
    "                             dim_feedforward=2048,\n",
    "                             max_seq_length=32,\n",
    "                             pos_dropout=0.15,\n",
    "                             transformer_dropout=0.3)\n",
    "\n",
    "transformer = transformer.to(device)"
   ]
  },
  {
   "cell_type": "code",
   "execution_count": 54,
   "id": "1e532192",
   "metadata": {},
   "outputs": [
    {
     "name": "stdout",
     "output_type": "stream",
     "text": [
      "There are 31,546,053 trainable parameters in this model.\n"
     ]
    }
   ],
   "source": [
    "count_params(transformer)"
   ]
  },
  {
   "cell_type": "code",
   "execution_count": 55,
   "id": "4c3b7a1b",
   "metadata": {},
   "outputs": [],
   "source": [
    "xf_optim = torch.optim.AdamW(transformer.parameters(), lr=1e-4)"
   ]
  },
  {
   "cell_type": "code",
   "execution_count": 56,
   "id": "23c790b3",
   "metadata": {},
   "outputs": [
    {
     "data": {
      "application/vnd.jupyter.widget-view+json": {
       "model_id": "5d2170e2c45c4b0b9870b1b5d1bef4b9",
       "version_major": 2,
       "version_minor": 0
      },
      "text/plain": [
       "Epoch:   0%|          | 0/50 [00:00<?, ?it/s]"
      ]
     },
     "metadata": {},
     "output_type": "display_data"
    },
    {
     "data": {
      "application/vnd.jupyter.widget-view+json": {
       "model_id": "",
       "version_major": 2,
       "version_minor": 0
      },
      "text/plain": [
       "  0%|          | 0/7603 [00:00<?, ?it/s]"
      ]
     },
     "metadata": {},
     "output_type": "display_data"
    },
    {
     "name": "stderr",
     "output_type": "stream",
     "text": [
      "/home/turunenj/anaconda3/lib/python3.11/site-packages/torch/nn/functional.py:5076: UserWarning: Support for mismatched key_padding_mask and attn_mask is deprecated. Use same type for both instead.\n",
      "  warnings.warn(\n"
     ]
    },
    {
     "data": {
      "application/vnd.jupyter.widget-view+json": {
       "model_id": "",
       "version_major": 2,
       "version_minor": 0
      },
      "text/plain": [
       "  0%|          | 0/429 [00:00<?, ?it/s]"
      ]
     },
     "metadata": {},
     "output_type": "display_data"
    },
    {
     "name": "stdout",
     "output_type": "stream",
     "text": [
      "Checkpointing at epoch 1\n"
     ]
    },
    {
     "data": {
      "application/vnd.jupyter.widget-view+json": {
       "model_id": "",
       "version_major": 2,
       "version_minor": 0
      },
      "text/plain": [
       "  0%|          | 0/7603 [00:00<?, ?it/s]"
      ]
     },
     "metadata": {},
     "output_type": "display_data"
    },
    {
     "data": {
      "application/vnd.jupyter.widget-view+json": {
       "model_id": "",
       "version_major": 2,
       "version_minor": 0
      },
      "text/plain": [
       "  0%|          | 0/429 [00:00<?, ?it/s]"
      ]
     },
     "metadata": {},
     "output_type": "display_data"
    },
    {
     "name": "stdout",
     "output_type": "stream",
     "text": [
      "Checkpointing at epoch 2\n"
     ]
    },
    {
     "data": {
      "application/vnd.jupyter.widget-view+json": {
       "model_id": "",
       "version_major": 2,
       "version_minor": 0
      },
      "text/plain": [
       "  0%|          | 0/7603 [00:00<?, ?it/s]"
      ]
     },
     "metadata": {},
     "output_type": "display_data"
    },
    {
     "data": {
      "application/vnd.jupyter.widget-view+json": {
       "model_id": "",
       "version_major": 2,
       "version_minor": 0
      },
      "text/plain": [
       "  0%|          | 0/429 [00:00<?, ?it/s]"
      ]
     },
     "metadata": {},
     "output_type": "display_data"
    },
    {
     "name": "stdout",
     "output_type": "stream",
     "text": [
      "Checkpointing at epoch 3\n"
     ]
    },
    {
     "data": {
      "application/vnd.jupyter.widget-view+json": {
       "model_id": "",
       "version_major": 2,
       "version_minor": 0
      },
      "text/plain": [
       "  0%|          | 0/7603 [00:00<?, ?it/s]"
      ]
     },
     "metadata": {},
     "output_type": "display_data"
    },
    {
     "data": {
      "application/vnd.jupyter.widget-view+json": {
       "model_id": "",
       "version_major": 2,
       "version_minor": 0
      },
      "text/plain": [
       "  0%|          | 0/429 [00:00<?, ?it/s]"
      ]
     },
     "metadata": {},
     "output_type": "display_data"
    },
    {
     "name": "stdout",
     "output_type": "stream",
     "text": [
      "Checkpointing at epoch 4\n"
     ]
    },
    {
     "data": {
      "application/vnd.jupyter.widget-view+json": {
       "model_id": "",
       "version_major": 2,
       "version_minor": 0
      },
      "text/plain": [
       "  0%|          | 0/7603 [00:00<?, ?it/s]"
      ]
     },
     "metadata": {},
     "output_type": "display_data"
    },
    {
     "data": {
      "application/vnd.jupyter.widget-view+json": {
       "model_id": "",
       "version_major": 2,
       "version_minor": 0
      },
      "text/plain": [
       "  0%|          | 0/429 [00:00<?, ?it/s]"
      ]
     },
     "metadata": {},
     "output_type": "display_data"
    },
    {
     "name": "stdout",
     "output_type": "stream",
     "text": [
      "Checkpointing at epoch 5\n"
     ]
    },
    {
     "data": {
      "application/vnd.jupyter.widget-view+json": {
       "model_id": "",
       "version_major": 2,
       "version_minor": 0
      },
      "text/plain": [
       "  0%|          | 0/7603 [00:00<?, ?it/s]"
      ]
     },
     "metadata": {},
     "output_type": "display_data"
    },
    {
     "data": {
      "application/vnd.jupyter.widget-view+json": {
       "model_id": "",
       "version_major": 2,
       "version_minor": 0
      },
      "text/plain": [
       "  0%|          | 0/429 [00:00<?, ?it/s]"
      ]
     },
     "metadata": {},
     "output_type": "display_data"
    },
    {
     "name": "stdout",
     "output_type": "stream",
     "text": [
      "Checkpointing at epoch 6\n"
     ]
    },
    {
     "data": {
      "application/vnd.jupyter.widget-view+json": {
       "model_id": "",
       "version_major": 2,
       "version_minor": 0
      },
      "text/plain": [
       "  0%|          | 0/7603 [00:00<?, ?it/s]"
      ]
     },
     "metadata": {},
     "output_type": "display_data"
    },
    {
     "data": {
      "application/vnd.jupyter.widget-view+json": {
       "model_id": "",
       "version_major": 2,
       "version_minor": 0
      },
      "text/plain": [
       "  0%|          | 0/429 [00:00<?, ?it/s]"
      ]
     },
     "metadata": {},
     "output_type": "display_data"
    },
    {
     "name": "stdout",
     "output_type": "stream",
     "text": [
      "Checkpointing at epoch 7\n"
     ]
    },
    {
     "data": {
      "application/vnd.jupyter.widget-view+json": {
       "model_id": "",
       "version_major": 2,
       "version_minor": 0
      },
      "text/plain": [
       "  0%|          | 0/7603 [00:00<?, ?it/s]"
      ]
     },
     "metadata": {},
     "output_type": "display_data"
    },
    {
     "data": {
      "application/vnd.jupyter.widget-view+json": {
       "model_id": "",
       "version_major": 2,
       "version_minor": 0
      },
      "text/plain": [
       "  0%|          | 0/429 [00:00<?, ?it/s]"
      ]
     },
     "metadata": {},
     "output_type": "display_data"
    },
    {
     "name": "stdout",
     "output_type": "stream",
     "text": [
      "Checkpointing at epoch 8\n"
     ]
    },
    {
     "data": {
      "application/vnd.jupyter.widget-view+json": {
       "model_id": "",
       "version_major": 2,
       "version_minor": 0
      },
      "text/plain": [
       "  0%|          | 0/7603 [00:00<?, ?it/s]"
      ]
     },
     "metadata": {},
     "output_type": "display_data"
    },
    {
     "data": {
      "application/vnd.jupyter.widget-view+json": {
       "model_id": "",
       "version_major": 2,
       "version_minor": 0
      },
      "text/plain": [
       "  0%|          | 0/429 [00:00<?, ?it/s]"
      ]
     },
     "metadata": {},
     "output_type": "display_data"
    },
    {
     "name": "stdout",
     "output_type": "stream",
     "text": [
      "Checkpointing at epoch 9\n"
     ]
    },
    {
     "data": {
      "application/vnd.jupyter.widget-view+json": {
       "model_id": "",
       "version_major": 2,
       "version_minor": 0
      },
      "text/plain": [
       "  0%|          | 0/7603 [00:00<?, ?it/s]"
      ]
     },
     "metadata": {},
     "output_type": "display_data"
    },
    {
     "data": {
      "application/vnd.jupyter.widget-view+json": {
       "model_id": "",
       "version_major": 2,
       "version_minor": 0
      },
      "text/plain": [
       "  0%|          | 0/429 [00:00<?, ?it/s]"
      ]
     },
     "metadata": {},
     "output_type": "display_data"
    },
    {
     "name": "stdout",
     "output_type": "stream",
     "text": [
      "Checkpointing at epoch 10\n"
     ]
    },
    {
     "data": {
      "application/vnd.jupyter.widget-view+json": {
       "model_id": "",
       "version_major": 2,
       "version_minor": 0
      },
      "text/plain": [
       "  0%|          | 0/7603 [00:00<?, ?it/s]"
      ]
     },
     "metadata": {},
     "output_type": "display_data"
    },
    {
     "data": {
      "application/vnd.jupyter.widget-view+json": {
       "model_id": "",
       "version_major": 2,
       "version_minor": 0
      },
      "text/plain": [
       "  0%|          | 0/429 [00:00<?, ?it/s]"
      ]
     },
     "metadata": {},
     "output_type": "display_data"
    },
    {
     "name": "stdout",
     "output_type": "stream",
     "text": [
      "Checkpointing at epoch 11\n"
     ]
    },
    {
     "data": {
      "application/vnd.jupyter.widget-view+json": {
       "model_id": "",
       "version_major": 2,
       "version_minor": 0
      },
      "text/plain": [
       "  0%|          | 0/7603 [00:00<?, ?it/s]"
      ]
     },
     "metadata": {},
     "output_type": "display_data"
    },
    {
     "data": {
      "application/vnd.jupyter.widget-view+json": {
       "model_id": "",
       "version_major": 2,
       "version_minor": 0
      },
      "text/plain": [
       "  0%|          | 0/429 [00:00<?, ?it/s]"
      ]
     },
     "metadata": {},
     "output_type": "display_data"
    },
    {
     "name": "stdout",
     "output_type": "stream",
     "text": [
      "Checkpointing at epoch 12\n"
     ]
    },
    {
     "data": {
      "application/vnd.jupyter.widget-view+json": {
       "model_id": "",
       "version_major": 2,
       "version_minor": 0
      },
      "text/plain": [
       "  0%|          | 0/7603 [00:00<?, ?it/s]"
      ]
     },
     "metadata": {},
     "output_type": "display_data"
    },
    {
     "data": {
      "application/vnd.jupyter.widget-view+json": {
       "model_id": "",
       "version_major": 2,
       "version_minor": 0
      },
      "text/plain": [
       "  0%|          | 0/429 [00:00<?, ?it/s]"
      ]
     },
     "metadata": {},
     "output_type": "display_data"
    },
    {
     "name": "stdout",
     "output_type": "stream",
     "text": [
      "Checkpointing at epoch 13\n"
     ]
    },
    {
     "data": {
      "application/vnd.jupyter.widget-view+json": {
       "model_id": "",
       "version_major": 2,
       "version_minor": 0
      },
      "text/plain": [
       "  0%|          | 0/7603 [00:00<?, ?it/s]"
      ]
     },
     "metadata": {},
     "output_type": "display_data"
    },
    {
     "data": {
      "application/vnd.jupyter.widget-view+json": {
       "model_id": "",
       "version_major": 2,
       "version_minor": 0
      },
      "text/plain": [
       "  0%|          | 0/429 [00:00<?, ?it/s]"
      ]
     },
     "metadata": {},
     "output_type": "display_data"
    },
    {
     "name": "stdout",
     "output_type": "stream",
     "text": [
      "Checkpointing at epoch 14\n"
     ]
    },
    {
     "data": {
      "application/vnd.jupyter.widget-view+json": {
       "model_id": "",
       "version_major": 2,
       "version_minor": 0
      },
      "text/plain": [
       "  0%|          | 0/7603 [00:00<?, ?it/s]"
      ]
     },
     "metadata": {},
     "output_type": "display_data"
    },
    {
     "data": {
      "application/vnd.jupyter.widget-view+json": {
       "model_id": "",
       "version_major": 2,
       "version_minor": 0
      },
      "text/plain": [
       "  0%|          | 0/429 [00:00<?, ?it/s]"
      ]
     },
     "metadata": {},
     "output_type": "display_data"
    },
    {
     "name": "stdout",
     "output_type": "stream",
     "text": [
      "Checkpointing at epoch 15\n"
     ]
    },
    {
     "data": {
      "application/vnd.jupyter.widget-view+json": {
       "model_id": "",
       "version_major": 2,
       "version_minor": 0
      },
      "text/plain": [
       "  0%|          | 0/7603 [00:00<?, ?it/s]"
      ]
     },
     "metadata": {},
     "output_type": "display_data"
    },
    {
     "data": {
      "application/vnd.jupyter.widget-view+json": {
       "model_id": "",
       "version_major": 2,
       "version_minor": 0
      },
      "text/plain": [
       "  0%|          | 0/429 [00:00<?, ?it/s]"
      ]
     },
     "metadata": {},
     "output_type": "display_data"
    },
    {
     "name": "stdout",
     "output_type": "stream",
     "text": [
      "Checkpointing at epoch 16\n"
     ]
    },
    {
     "data": {
      "application/vnd.jupyter.widget-view+json": {
       "model_id": "",
       "version_major": 2,
       "version_minor": 0
      },
      "text/plain": [
       "  0%|          | 0/7603 [00:00<?, ?it/s]"
      ]
     },
     "metadata": {},
     "output_type": "display_data"
    },
    {
     "data": {
      "application/vnd.jupyter.widget-view+json": {
       "model_id": "",
       "version_major": 2,
       "version_minor": 0
      },
      "text/plain": [
       "  0%|          | 0/429 [00:00<?, ?it/s]"
      ]
     },
     "metadata": {},
     "output_type": "display_data"
    },
    {
     "name": "stdout",
     "output_type": "stream",
     "text": [
      "Checkpointing at epoch 17\n"
     ]
    },
    {
     "data": {
      "application/vnd.jupyter.widget-view+json": {
       "model_id": "",
       "version_major": 2,
       "version_minor": 0
      },
      "text/plain": [
       "  0%|          | 0/7603 [00:00<?, ?it/s]"
      ]
     },
     "metadata": {},
     "output_type": "display_data"
    },
    {
     "data": {
      "application/vnd.jupyter.widget-view+json": {
       "model_id": "",
       "version_major": 2,
       "version_minor": 0
      },
      "text/plain": [
       "  0%|          | 0/429 [00:00<?, ?it/s]"
      ]
     },
     "metadata": {},
     "output_type": "display_data"
    },
    {
     "name": "stdout",
     "output_type": "stream",
     "text": [
      "Checkpointing at epoch 18\n"
     ]
    },
    {
     "data": {
      "application/vnd.jupyter.widget-view+json": {
       "model_id": "",
       "version_major": 2,
       "version_minor": 0
      },
      "text/plain": [
       "  0%|          | 0/7603 [00:00<?, ?it/s]"
      ]
     },
     "metadata": {},
     "output_type": "display_data"
    },
    {
     "data": {
      "application/vnd.jupyter.widget-view+json": {
       "model_id": "",
       "version_major": 2,
       "version_minor": 0
      },
      "text/plain": [
       "  0%|          | 0/429 [00:00<?, ?it/s]"
      ]
     },
     "metadata": {},
     "output_type": "display_data"
    },
    {
     "name": "stdout",
     "output_type": "stream",
     "text": [
      "Checkpointing at epoch 19\n"
     ]
    },
    {
     "data": {
      "application/vnd.jupyter.widget-view+json": {
       "model_id": "",
       "version_major": 2,
       "version_minor": 0
      },
      "text/plain": [
       "  0%|          | 0/7603 [00:00<?, ?it/s]"
      ]
     },
     "metadata": {},
     "output_type": "display_data"
    },
    {
     "data": {
      "application/vnd.jupyter.widget-view+json": {
       "model_id": "",
       "version_major": 2,
       "version_minor": 0
      },
      "text/plain": [
       "  0%|          | 0/429 [00:00<?, ?it/s]"
      ]
     },
     "metadata": {},
     "output_type": "display_data"
    },
    {
     "name": "stdout",
     "output_type": "stream",
     "text": [
      "Checkpointing at epoch 20\n"
     ]
    },
    {
     "data": {
      "application/vnd.jupyter.widget-view+json": {
       "model_id": "",
       "version_major": 2,
       "version_minor": 0
      },
      "text/plain": [
       "  0%|          | 0/7603 [00:00<?, ?it/s]"
      ]
     },
     "metadata": {},
     "output_type": "display_data"
    },
    {
     "data": {
      "application/vnd.jupyter.widget-view+json": {
       "model_id": "",
       "version_major": 2,
       "version_minor": 0
      },
      "text/plain": [
       "  0%|          | 0/429 [00:00<?, ?it/s]"
      ]
     },
     "metadata": {},
     "output_type": "display_data"
    },
    {
     "name": "stdout",
     "output_type": "stream",
     "text": [
      "Checkpointing at epoch 21\n"
     ]
    },
    {
     "data": {
      "application/vnd.jupyter.widget-view+json": {
       "model_id": "",
       "version_major": 2,
       "version_minor": 0
      },
      "text/plain": [
       "  0%|          | 0/7603 [00:00<?, ?it/s]"
      ]
     },
     "metadata": {},
     "output_type": "display_data"
    },
    {
     "data": {
      "application/vnd.jupyter.widget-view+json": {
       "model_id": "",
       "version_major": 2,
       "version_minor": 0
      },
      "text/plain": [
       "  0%|          | 0/429 [00:00<?, ?it/s]"
      ]
     },
     "metadata": {},
     "output_type": "display_data"
    },
    {
     "name": "stdout",
     "output_type": "stream",
     "text": [
      "Checkpointing at epoch 22\n"
     ]
    },
    {
     "data": {
      "application/vnd.jupyter.widget-view+json": {
       "model_id": "",
       "version_major": 2,
       "version_minor": 0
      },
      "text/plain": [
       "  0%|          | 0/7603 [00:00<?, ?it/s]"
      ]
     },
     "metadata": {},
     "output_type": "display_data"
    },
    {
     "data": {
      "application/vnd.jupyter.widget-view+json": {
       "model_id": "",
       "version_major": 2,
       "version_minor": 0
      },
      "text/plain": [
       "  0%|          | 0/429 [00:00<?, ?it/s]"
      ]
     },
     "metadata": {},
     "output_type": "display_data"
    },
    {
     "name": "stdout",
     "output_type": "stream",
     "text": [
      "Checkpointing at epoch 23\n"
     ]
    },
    {
     "data": {
      "application/vnd.jupyter.widget-view+json": {
       "model_id": "",
       "version_major": 2,
       "version_minor": 0
      },
      "text/plain": [
       "  0%|          | 0/7603 [00:00<?, ?it/s]"
      ]
     },
     "metadata": {},
     "output_type": "display_data"
    },
    {
     "data": {
      "application/vnd.jupyter.widget-view+json": {
       "model_id": "",
       "version_major": 2,
       "version_minor": 0
      },
      "text/plain": [
       "  0%|          | 0/429 [00:00<?, ?it/s]"
      ]
     },
     "metadata": {},
     "output_type": "display_data"
    },
    {
     "name": "stdout",
     "output_type": "stream",
     "text": [
      "Checkpointing at epoch 24\n"
     ]
    },
    {
     "data": {
      "application/vnd.jupyter.widget-view+json": {
       "model_id": "",
       "version_major": 2,
       "version_minor": 0
      },
      "text/plain": [
       "  0%|          | 0/7603 [00:00<?, ?it/s]"
      ]
     },
     "metadata": {},
     "output_type": "display_data"
    },
    {
     "data": {
      "application/vnd.jupyter.widget-view+json": {
       "model_id": "",
       "version_major": 2,
       "version_minor": 0
      },
      "text/plain": [
       "  0%|          | 0/429 [00:00<?, ?it/s]"
      ]
     },
     "metadata": {},
     "output_type": "display_data"
    },
    {
     "name": "stdout",
     "output_type": "stream",
     "text": [
      "Checkpointing at epoch 25\n"
     ]
    },
    {
     "data": {
      "application/vnd.jupyter.widget-view+json": {
       "model_id": "",
       "version_major": 2,
       "version_minor": 0
      },
      "text/plain": [
       "  0%|          | 0/7603 [00:00<?, ?it/s]"
      ]
     },
     "metadata": {},
     "output_type": "display_data"
    },
    {
     "data": {
      "application/vnd.jupyter.widget-view+json": {
       "model_id": "",
       "version_major": 2,
       "version_minor": 0
      },
      "text/plain": [
       "  0%|          | 0/429 [00:00<?, ?it/s]"
      ]
     },
     "metadata": {},
     "output_type": "display_data"
    },
    {
     "name": "stdout",
     "output_type": "stream",
     "text": [
      "Checkpointing at epoch 26\n"
     ]
    },
    {
     "data": {
      "application/vnd.jupyter.widget-view+json": {
       "model_id": "",
       "version_major": 2,
       "version_minor": 0
      },
      "text/plain": [
       "  0%|          | 0/7603 [00:00<?, ?it/s]"
      ]
     },
     "metadata": {},
     "output_type": "display_data"
    },
    {
     "data": {
      "application/vnd.jupyter.widget-view+json": {
       "model_id": "",
       "version_major": 2,
       "version_minor": 0
      },
      "text/plain": [
       "  0%|          | 0/429 [00:00<?, ?it/s]"
      ]
     },
     "metadata": {},
     "output_type": "display_data"
    },
    {
     "data": {
      "application/vnd.jupyter.widget-view+json": {
       "model_id": "",
       "version_major": 2,
       "version_minor": 0
      },
      "text/plain": [
       "  0%|          | 0/7603 [00:00<?, ?it/s]"
      ]
     },
     "metadata": {},
     "output_type": "display_data"
    },
    {
     "data": {
      "application/vnd.jupyter.widget-view+json": {
       "model_id": "",
       "version_major": 2,
       "version_minor": 0
      },
      "text/plain": [
       "  0%|          | 0/429 [00:00<?, ?it/s]"
      ]
     },
     "metadata": {},
     "output_type": "display_data"
    },
    {
     "name": "stdout",
     "output_type": "stream",
     "text": [
      "Checkpointing at epoch 28\n"
     ]
    },
    {
     "data": {
      "application/vnd.jupyter.widget-view+json": {
       "model_id": "",
       "version_major": 2,
       "version_minor": 0
      },
      "text/plain": [
       "  0%|          | 0/7603 [00:00<?, ?it/s]"
      ]
     },
     "metadata": {},
     "output_type": "display_data"
    },
    {
     "data": {
      "application/vnd.jupyter.widget-view+json": {
       "model_id": "",
       "version_major": 2,
       "version_minor": 0
      },
      "text/plain": [
       "  0%|          | 0/429 [00:00<?, ?it/s]"
      ]
     },
     "metadata": {},
     "output_type": "display_data"
    },
    {
     "name": "stdout",
     "output_type": "stream",
     "text": [
      "Checkpointing at epoch 29\n"
     ]
    },
    {
     "data": {
      "application/vnd.jupyter.widget-view+json": {
       "model_id": "",
       "version_major": 2,
       "version_minor": 0
      },
      "text/plain": [
       "  0%|          | 0/7603 [00:00<?, ?it/s]"
      ]
     },
     "metadata": {},
     "output_type": "display_data"
    },
    {
     "data": {
      "application/vnd.jupyter.widget-view+json": {
       "model_id": "",
       "version_major": 2,
       "version_minor": 0
      },
      "text/plain": [
       "  0%|          | 0/429 [00:00<?, ?it/s]"
      ]
     },
     "metadata": {},
     "output_type": "display_data"
    },
    {
     "data": {
      "application/vnd.jupyter.widget-view+json": {
       "model_id": "",
       "version_major": 2,
       "version_minor": 0
      },
      "text/plain": [
       "  0%|          | 0/7603 [00:00<?, ?it/s]"
      ]
     },
     "metadata": {},
     "output_type": "display_data"
    },
    {
     "data": {
      "application/vnd.jupyter.widget-view+json": {
       "model_id": "",
       "version_major": 2,
       "version_minor": 0
      },
      "text/plain": [
       "  0%|          | 0/429 [00:00<?, ?it/s]"
      ]
     },
     "metadata": {},
     "output_type": "display_data"
    },
    {
     "name": "stdout",
     "output_type": "stream",
     "text": [
      "Checkpointing at epoch 31\n"
     ]
    },
    {
     "data": {
      "application/vnd.jupyter.widget-view+json": {
       "model_id": "",
       "version_major": 2,
       "version_minor": 0
      },
      "text/plain": [
       "  0%|          | 0/7603 [00:00<?, ?it/s]"
      ]
     },
     "metadata": {},
     "output_type": "display_data"
    },
    {
     "data": {
      "application/vnd.jupyter.widget-view+json": {
       "model_id": "",
       "version_major": 2,
       "version_minor": 0
      },
      "text/plain": [
       "  0%|          | 0/429 [00:00<?, ?it/s]"
      ]
     },
     "metadata": {},
     "output_type": "display_data"
    },
    {
     "name": "stdout",
     "output_type": "stream",
     "text": [
      "Checkpointing at epoch 32\n"
     ]
    },
    {
     "data": {
      "application/vnd.jupyter.widget-view+json": {
       "model_id": "",
       "version_major": 2,
       "version_minor": 0
      },
      "text/plain": [
       "  0%|          | 0/7603 [00:00<?, ?it/s]"
      ]
     },
     "metadata": {},
     "output_type": "display_data"
    },
    {
     "data": {
      "application/vnd.jupyter.widget-view+json": {
       "model_id": "",
       "version_major": 2,
       "version_minor": 0
      },
      "text/plain": [
       "  0%|          | 0/429 [00:00<?, ?it/s]"
      ]
     },
     "metadata": {},
     "output_type": "display_data"
    },
    {
     "name": "stdout",
     "output_type": "stream",
     "text": [
      "Checkpointing at epoch 33\n"
     ]
    },
    {
     "data": {
      "application/vnd.jupyter.widget-view+json": {
       "model_id": "",
       "version_major": 2,
       "version_minor": 0
      },
      "text/plain": [
       "  0%|          | 0/7603 [00:00<?, ?it/s]"
      ]
     },
     "metadata": {},
     "output_type": "display_data"
    },
    {
     "data": {
      "application/vnd.jupyter.widget-view+json": {
       "model_id": "",
       "version_major": 2,
       "version_minor": 0
      },
      "text/plain": [
       "  0%|          | 0/429 [00:00<?, ?it/s]"
      ]
     },
     "metadata": {},
     "output_type": "display_data"
    },
    {
     "name": "stdout",
     "output_type": "stream",
     "text": [
      "Checkpointing at epoch 34\n"
     ]
    },
    {
     "data": {
      "application/vnd.jupyter.widget-view+json": {
       "model_id": "",
       "version_major": 2,
       "version_minor": 0
      },
      "text/plain": [
       "  0%|          | 0/7603 [00:00<?, ?it/s]"
      ]
     },
     "metadata": {},
     "output_type": "display_data"
    },
    {
     "data": {
      "application/vnd.jupyter.widget-view+json": {
       "model_id": "",
       "version_major": 2,
       "version_minor": 0
      },
      "text/plain": [
       "  0%|          | 0/429 [00:00<?, ?it/s]"
      ]
     },
     "metadata": {},
     "output_type": "display_data"
    },
    {
     "data": {
      "application/vnd.jupyter.widget-view+json": {
       "model_id": "",
       "version_major": 2,
       "version_minor": 0
      },
      "text/plain": [
       "  0%|          | 0/7603 [00:00<?, ?it/s]"
      ]
     },
     "metadata": {},
     "output_type": "display_data"
    },
    {
     "data": {
      "application/vnd.jupyter.widget-view+json": {
       "model_id": "",
       "version_major": 2,
       "version_minor": 0
      },
      "text/plain": [
       "  0%|          | 0/429 [00:00<?, ?it/s]"
      ]
     },
     "metadata": {},
     "output_type": "display_data"
    },
    {
     "data": {
      "application/vnd.jupyter.widget-view+json": {
       "model_id": "",
       "version_major": 2,
       "version_minor": 0
      },
      "text/plain": [
       "  0%|          | 0/7603 [00:00<?, ?it/s]"
      ]
     },
     "metadata": {},
     "output_type": "display_data"
    },
    {
     "data": {
      "application/vnd.jupyter.widget-view+json": {
       "model_id": "",
       "version_major": 2,
       "version_minor": 0
      },
      "text/plain": [
       "  0%|          | 0/429 [00:00<?, ?it/s]"
      ]
     },
     "metadata": {},
     "output_type": "display_data"
    },
    {
     "data": {
      "application/vnd.jupyter.widget-view+json": {
       "model_id": "",
       "version_major": 2,
       "version_minor": 0
      },
      "text/plain": [
       "  0%|          | 0/7603 [00:00<?, ?it/s]"
      ]
     },
     "metadata": {},
     "output_type": "display_data"
    },
    {
     "data": {
      "application/vnd.jupyter.widget-view+json": {
       "model_id": "",
       "version_major": 2,
       "version_minor": 0
      },
      "text/plain": [
       "  0%|          | 0/429 [00:00<?, ?it/s]"
      ]
     },
     "metadata": {},
     "output_type": "display_data"
    },
    {
     "name": "stdout",
     "output_type": "stream",
     "text": [
      "Checkpointing at epoch 38\n"
     ]
    },
    {
     "data": {
      "application/vnd.jupyter.widget-view+json": {
       "model_id": "",
       "version_major": 2,
       "version_minor": 0
      },
      "text/plain": [
       "  0%|          | 0/7603 [00:00<?, ?it/s]"
      ]
     },
     "metadata": {},
     "output_type": "display_data"
    },
    {
     "data": {
      "application/vnd.jupyter.widget-view+json": {
       "model_id": "",
       "version_major": 2,
       "version_minor": 0
      },
      "text/plain": [
       "  0%|          | 0/429 [00:00<?, ?it/s]"
      ]
     },
     "metadata": {},
     "output_type": "display_data"
    },
    {
     "name": "stdout",
     "output_type": "stream",
     "text": [
      "Checkpointing at epoch 39\n"
     ]
    },
    {
     "data": {
      "application/vnd.jupyter.widget-view+json": {
       "model_id": "",
       "version_major": 2,
       "version_minor": 0
      },
      "text/plain": [
       "  0%|          | 0/7603 [00:00<?, ?it/s]"
      ]
     },
     "metadata": {},
     "output_type": "display_data"
    },
    {
     "data": {
      "application/vnd.jupyter.widget-view+json": {
       "model_id": "",
       "version_major": 2,
       "version_minor": 0
      },
      "text/plain": [
       "  0%|          | 0/429 [00:00<?, ?it/s]"
      ]
     },
     "metadata": {},
     "output_type": "display_data"
    },
    {
     "name": "stdout",
     "output_type": "stream",
     "text": [
      "Checkpointing at epoch 40\n"
     ]
    },
    {
     "data": {
      "application/vnd.jupyter.widget-view+json": {
       "model_id": "",
       "version_major": 2,
       "version_minor": 0
      },
      "text/plain": [
       "  0%|          | 0/7603 [00:00<?, ?it/s]"
      ]
     },
     "metadata": {},
     "output_type": "display_data"
    },
    {
     "data": {
      "application/vnd.jupyter.widget-view+json": {
       "model_id": "",
       "version_major": 2,
       "version_minor": 0
      },
      "text/plain": [
       "  0%|          | 0/429 [00:00<?, ?it/s]"
      ]
     },
     "metadata": {},
     "output_type": "display_data"
    },
    {
     "data": {
      "application/vnd.jupyter.widget-view+json": {
       "model_id": "",
       "version_major": 2,
       "version_minor": 0
      },
      "text/plain": [
       "  0%|          | 0/7603 [00:00<?, ?it/s]"
      ]
     },
     "metadata": {},
     "output_type": "display_data"
    },
    {
     "data": {
      "application/vnd.jupyter.widget-view+json": {
       "model_id": "",
       "version_major": 2,
       "version_minor": 0
      },
      "text/plain": [
       "  0%|          | 0/429 [00:00<?, ?it/s]"
      ]
     },
     "metadata": {},
     "output_type": "display_data"
    },
    {
     "name": "stdout",
     "output_type": "stream",
     "text": [
      "Checkpointing at epoch 42\n"
     ]
    },
    {
     "data": {
      "application/vnd.jupyter.widget-view+json": {
       "model_id": "",
       "version_major": 2,
       "version_minor": 0
      },
      "text/plain": [
       "  0%|          | 0/7603 [00:00<?, ?it/s]"
      ]
     },
     "metadata": {},
     "output_type": "display_data"
    },
    {
     "data": {
      "application/vnd.jupyter.widget-view+json": {
       "model_id": "",
       "version_major": 2,
       "version_minor": 0
      },
      "text/plain": [
       "  0%|          | 0/429 [00:00<?, ?it/s]"
      ]
     },
     "metadata": {},
     "output_type": "display_data"
    },
    {
     "data": {
      "application/vnd.jupyter.widget-view+json": {
       "model_id": "",
       "version_major": 2,
       "version_minor": 0
      },
      "text/plain": [
       "  0%|          | 0/7603 [00:00<?, ?it/s]"
      ]
     },
     "metadata": {},
     "output_type": "display_data"
    },
    {
     "data": {
      "application/vnd.jupyter.widget-view+json": {
       "model_id": "",
       "version_major": 2,
       "version_minor": 0
      },
      "text/plain": [
       "  0%|          | 0/429 [00:00<?, ?it/s]"
      ]
     },
     "metadata": {},
     "output_type": "display_data"
    },
    {
     "name": "stdout",
     "output_type": "stream",
     "text": [
      "Checkpointing at epoch 44\n"
     ]
    },
    {
     "data": {
      "application/vnd.jupyter.widget-view+json": {
       "model_id": "",
       "version_major": 2,
       "version_minor": 0
      },
      "text/plain": [
       "  0%|          | 0/7603 [00:00<?, ?it/s]"
      ]
     },
     "metadata": {},
     "output_type": "display_data"
    },
    {
     "data": {
      "application/vnd.jupyter.widget-view+json": {
       "model_id": "",
       "version_major": 2,
       "version_minor": 0
      },
      "text/plain": [
       "  0%|          | 0/429 [00:00<?, ?it/s]"
      ]
     },
     "metadata": {},
     "output_type": "display_data"
    },
    {
     "data": {
      "application/vnd.jupyter.widget-view+json": {
       "model_id": "",
       "version_major": 2,
       "version_minor": 0
      },
      "text/plain": [
       "  0%|          | 0/7603 [00:00<?, ?it/s]"
      ]
     },
     "metadata": {},
     "output_type": "display_data"
    },
    {
     "data": {
      "application/vnd.jupyter.widget-view+json": {
       "model_id": "",
       "version_major": 2,
       "version_minor": 0
      },
      "text/plain": [
       "  0%|          | 0/429 [00:00<?, ?it/s]"
      ]
     },
     "metadata": {},
     "output_type": "display_data"
    },
    {
     "name": "stdout",
     "output_type": "stream",
     "text": [
      "Checkpointing at epoch 46\n"
     ]
    },
    {
     "data": {
      "application/vnd.jupyter.widget-view+json": {
       "model_id": "",
       "version_major": 2,
       "version_minor": 0
      },
      "text/plain": [
       "  0%|          | 0/7603 [00:00<?, ?it/s]"
      ]
     },
     "metadata": {},
     "output_type": "display_data"
    },
    {
     "data": {
      "application/vnd.jupyter.widget-view+json": {
       "model_id": "",
       "version_major": 2,
       "version_minor": 0
      },
      "text/plain": [
       "  0%|          | 0/429 [00:00<?, ?it/s]"
      ]
     },
     "metadata": {},
     "output_type": "display_data"
    },
    {
     "data": {
      "application/vnd.jupyter.widget-view+json": {
       "model_id": "",
       "version_major": 2,
       "version_minor": 0
      },
      "text/plain": [
       "  0%|          | 0/7603 [00:00<?, ?it/s]"
      ]
     },
     "metadata": {},
     "output_type": "display_data"
    },
    {
     "data": {
      "application/vnd.jupyter.widget-view+json": {
       "model_id": "",
       "version_major": 2,
       "version_minor": 0
      },
      "text/plain": [
       "  0%|          | 0/429 [00:00<?, ?it/s]"
      ]
     },
     "metadata": {},
     "output_type": "display_data"
    },
    {
     "name": "stdout",
     "output_type": "stream",
     "text": [
      "Checkpointing at epoch 48\n"
     ]
    },
    {
     "data": {
      "application/vnd.jupyter.widget-view+json": {
       "model_id": "",
       "version_major": 2,
       "version_minor": 0
      },
      "text/plain": [
       "  0%|          | 0/7603 [00:00<?, ?it/s]"
      ]
     },
     "metadata": {},
     "output_type": "display_data"
    },
    {
     "data": {
      "application/vnd.jupyter.widget-view+json": {
       "model_id": "",
       "version_major": 2,
       "version_minor": 0
      },
      "text/plain": [
       "  0%|          | 0/429 [00:00<?, ?it/s]"
      ]
     },
     "metadata": {},
     "output_type": "display_data"
    },
    {
     "data": {
      "application/vnd.jupyter.widget-view+json": {
       "model_id": "",
       "version_major": 2,
       "version_minor": 0
      },
      "text/plain": [
       "  0%|          | 0/7603 [00:00<?, ?it/s]"
      ]
     },
     "metadata": {},
     "output_type": "display_data"
    },
    {
     "data": {
      "application/vnd.jupyter.widget-view+json": {
       "model_id": "",
       "version_major": 2,
       "version_minor": 0
      },
      "text/plain": [
       "  0%|          | 0/429 [00:00<?, ?it/s]"
      ]
     },
     "metadata": {},
     "output_type": "display_data"
    },
    {
     "name": "stdout",
     "output_type": "stream",
     "text": [
      "Checkpointing at epoch 50\n",
      "CPU times: user 19h 48min 7s, sys: 1min 54s, total: 19h 50min 2s\n",
      "Wall time: 4h 26min 49s\n"
     ]
    }
   ],
   "source": [
    "%%time\n",
    "N_EPOCHS = 50\n",
    "CLIP = 15 # clipping value, or None to prevent gradient clipping\n",
    "EARLY_STOPPING_EPOCHS = 5\n",
    "    \n",
    "model_path = os.path.join(SAVE_DIR, 'transformer_en_fr.pt')\n",
    "transformer_metrics = {}\n",
    "best_valid_loss = float(\"inf\")\n",
    "early_stopping_count = 0\n",
    "for epoch in tqdm(range(N_EPOCHS), desc=\"Epoch\"):\n",
    "    train_loss = train_transformer(transformer, train_iter, xf_optim, loss_fn, device, clip=CLIP)\n",
    "    valid_loss = evaluate_transformer(transformer, valid_iter, loss_fn, device)\n",
    "    \n",
    "    if valid_loss < best_valid_loss:\n",
    "        tqdm.write(f\"Checkpointing at epoch {epoch + 1}\")\n",
    "        best_valid_loss = valid_loss\n",
    "        torch.save(transformer.state_dict(), model_path)\n",
    "        early_stopping_count = 0\n",
    "    elif epoch > EARLY_STOPPING_EPOCHS:\n",
    "        early_stopping_count += 1\n",
    "    \n",
    "    transformer_metrics[epoch+1] = dict(\n",
    "        train_loss = train_loss,\n",
    "        train_ppl = np.exp(train_loss),\n",
    "        valid_loss = valid_loss,\n",
    "        valid_ppl = np.exp(valid_loss)\n",
    "    )\n",
    "    \n",
    "    if early_stopping_count == EARLY_STOPPING_EPOCHS:\n",
    "        tqdm.write(f\"Early stopping triggered in epoch {epoch + 1}\")\n",
    "        break"
   ]
  },
  {
   "cell_type": "code",
   "execution_count": 57,
   "id": "a0e3d480",
   "metadata": {},
   "outputs": [
    {
     "data": {
      "text/plain": [
       "<All keys matched successfully>"
      ]
     },
     "execution_count": 57,
     "metadata": {},
     "output_type": "execute_result"
    }
   ],
   "source": [
    "transformer.load_state_dict(torch.load(model_path, map_location=device))"
   ]
  },
  {
   "cell_type": "code",
   "execution_count": 58,
   "id": "a2bf4e29",
   "metadata": {},
   "outputs": [
    {
     "data": {
      "image/png": "[encoded data removed]",
      "text/plain": [
       "<Figure size 1000x600 with 1 Axes>"
      ]
     },
     "metadata": {},
     "output_type": "display_data"
    },
    {
     "data": {
      "image/png": "[encoded data removed]",
      "text/plain": [
       "<Figure size 1000x600 with 1 Axes>"
      ]
     },
     "metadata": {},
     "output_type": "display_data"
    }
   ],
   "source": [
    "transformer_metrics_df = pd.DataFrame(transformer_metrics).T\n",
    "\n",
    "plt.figure(figsize=(10,6))\n",
    "plt.plot(transformer_metrics_df['train_loss'], label=\"Training\", color='gray', linestyle='solid', lw=2.5)\n",
    "plt.plot(transformer_metrics_df['valid_loss'], label=\"Validation\", color='gray', linestyle='dashed', lw=2.5)\n",
    "plt.legend()\n",
    "plt.title(\"Transformer: Loss\")\n",
    "plt.xlabel(\"Epoch\")\n",
    "plt.ylabel(\"Loss\")\n",
    "plt.show()\n",
    "\n",
    "plt.figure(figsize=(10,6))\n",
    "plt.plot(transformer_metrics_df['train_ppl'], label=\"Training\", color='gray', linestyle='solid', lw=2.5)\n",
    "plt.plot(transformer_metrics_df['valid_ppl'], label=\"Validation\", color='gray', linestyle='dashed', lw=2.5)\n",
    "plt.legend()\n",
    "plt.title(\"Transformer: Perplexity\")\n",
    "plt.xlabel(\"Epoch\")\n",
    "plt.ylabel(\"Perplexity\")\n",
    "plt.show()"
   ]
  },
  {
   "cell_type": "code",
   "execution_count": 59,
   "id": "75e65efe",
   "metadata": {},
   "outputs": [
    {
     "data": {
      "text/plain": [
       "1.0153475566343828"
      ]
     },
     "execution_count": 59,
     "metadata": {},
     "output_type": "execute_result"
    }
   ],
   "source": [
    "best_valid_loss"
   ]
  },
  {
   "cell_type": "code",
   "execution_count": 60,
   "id": "c68979fc",
   "metadata": {},
   "outputs": [],
   "source": [
    "def predict_transformer(text, model,\n",
    "                        src_vocab=en_vocab,\n",
    "                        src_tokenizer=en_tokenizer,\n",
    "                        tgt_vocab=fr_vocab,\n",
    "                        device=device):\n",
    "\n",
    "    input_ids = [src_vocab[token] for token in src_tokenizer(text)]\n",
    "    input_ids = [BOS_IDX] + input_ids + [EOS_IDX]\n",
    "\n",
    "    model.eval()\n",
    "    with torch.no_grad():\n",
    "        input_tensor = torch.tensor(input_ids).to(device).unsqueeze(1) # add fake batch dim\n",
    "\n",
    "        causal_out = torch.ones(MAX_SENTENCE_LENGTH, 1).long().to(device) * BOS_IDX\n",
    "        for t in range(1, MAX_SENTENCE_LENGTH):\n",
    "            decoder_output = transformer(input_tensor, causal_out[:t, :])[-1, :, :]\n",
    "            next_token = decoder_output.data.topk(1)[1].squeeze()\n",
    "            causal_out[t, :] = next_token\n",
    "            if next_token.item() == EOS_IDX:\n",
    "                break\n",
    "\n",
    "        pred_words = [tgt_vocab.lookup_token(tok.item()) for tok in causal_out.squeeze(1)[1:(t)]]\n",
    "        return \" \".join(pred_words)"
   ]
  },
  {
   "cell_type": "code",
   "execution_count": 72,
   "id": "348ad4e0",
   "metadata": {},
   "outputs": [
    {
     "data": {
      "text/plain": [
       "'voulez !'"
      ]
     },
     "execution_count": 72,
     "metadata": {},
     "output_type": "execute_result"
    }
   ],
   "source": [
    "predict_transformer(\"want some chocolate\", transformer)"
   ]
  },
  {
   "cell_type": "code",
   "execution_count": 70,
   "id": "27fbd75d",
   "metadata": {},
   "outputs": [
    {
     "data": {
      "text/plain": [
       "'je .'"
      ]
     },
     "execution_count": 70,
     "metadata": {},
     "output_type": "execute_result"
    }
   ],
   "source": [
    "predict_transformer(\"i would go anywhere with you .\", transformer)"
   ]
  },
  {
   "cell_type": "code",
   "execution_count": 65,
   "id": "b04cd9d0",
   "metadata": {},
   "outputs": [],
   "source": [
    "transformer = transformer.to('cuda')"
   ]
  },
  {
   "cell_type": "code",
   "execution_count": 66,
   "id": "92595194",
   "metadata": {},
   "outputs": [
    {
     "data": {
      "application/vnd.jupyter.widget-view+json": {
       "model_id": "",
       "version_major": 2,
       "version_minor": 0
      },
      "text/plain": [
       "  0%|          | 0/425 [00:00<?, ?it/s]"
      ]
     },
     "metadata": {},
     "output_type": "display_data"
    },
    {
     "data": {
      "application/vnd.jupyter.widget-view+json": {
       "model_id": "",
       "version_major": 2,
       "version_minor": 0
      },
      "text/plain": [
       "  0%|          | 0/425 [00:00<?, ?it/s]"
      ]
     },
     "metadata": {},
     "output_type": "display_data"
    },
    {
     "name": "stderr",
     "output_type": "stream",
     "text": [
      "/home/turunenj/anaconda3/lib/python3.11/site-packages/torch/nn/functional.py:5076: UserWarning: Support for mismatched key_padding_mask and attn_mask is deprecated. Use same type for both instead.\n",
      "  warnings.warn(\n"
     ]
    }
   ],
   "source": [
    "test_loss = {}\n",
    "test_loss['Bahdanau RNN'] = evaluate(seq2seq, test_iter, loss_fn, device)\n",
    "test_loss['Transformer'] = evaluate_transformer(transformer, test_iter, loss_fn, device)"
   ]
  },
  {
   "cell_type": "code",
   "execution_count": 67,
   "id": "1fd53f7d",
   "metadata": {},
   "outputs": [],
   "source": [
    "test_ppl = {k:np.exp(v) for k, v in test_loss.items()}"
   ]
  },
  {
   "cell_type": "code",
   "execution_count": 68,
   "id": "8062a7a1",
   "metadata": {},
   "outputs": [
    {
     "data": {
      "image/png": "[encoded data removed]",
      "text/plain": [
       "<Figure size 1000x600 with 2 Axes>"
      ]
     },
     "metadata": {},
     "output_type": "display_data"
    }
   ],
   "source": [
    "fig = plt.figure(figsize=(10,6))\n",
    "ax0 = fig.add_subplot(121)\n",
    "ax0.bar(test_loss.keys(), test_loss.values(), color='gray')\n",
    "ax0.set_title(\"Test Set Loss\")\n",
    "ax0.set_ylabel(\"Cross-Entropy Loss\")\n",
    "\n",
    "ax1 = fig.add_subplot(122)\n",
    "ax1.bar(test_ppl.keys(), test_ppl.values(), color='gray')\n",
    "ax1.set_title(\"Test Set Perplexity\")\n",
    "ax1.set_ylabel(\"Perplexity\")\n",
    "plt.show()"
   ]
  },
  {
   "cell_type": "code",
   "execution_count": null,
   "id": "623192a9",
   "metadata": {},
   "outputs": [],
   "source": []
  }
 ],
 "metadata": {
  "kernelspec": {
   "display_name": "Python 3 (ipykernel)",
   "language": "python",
   "name": "python3"
  },
  "language_info": {
   "codemirror_mode": {
    "name": "ipython",
    "version": 3
   },
   "file_extension": ".py",
   "mimetype": "text/x-python",
   "name": "python",
   "nbconvert_exporter": "python",
   "pygments_lexer": "ipython3",
   "version": "3.11.5"
  }
 },
 "nbformat": 4,
 "nbformat_minor": 5
}
